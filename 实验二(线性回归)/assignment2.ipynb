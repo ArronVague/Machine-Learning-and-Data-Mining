{
 "cells": [
  {
   "cell_type": "markdown",
   "id": "498d70fa",
   "metadata": {},
   "source": [
    "# 线性回归（二）"
   ]
  },
  {
   "cell_type": "markdown",
   "id": "210f3578",
   "metadata": {},
   "source": [
    "<font color=blue size=4>1.课堂实验任务</font>"
   ]
  },
  {
   "cell_type": "code",
   "execution_count": 1,
   "id": "226badd7",
   "metadata": {},
   "outputs": [],
   "source": [
    "import pandas as pd\n",
    "import numpy as np\n",
    "import matplotlib.pyplot as plt"
   ]
  },
  {
   "cell_type": "markdown",
   "id": "70d2906a",
   "metadata": {},
   "source": [
    "<span style=\"color:purple\">1) 使用pandas库的read_csv()函数(可以参考[pandas的官方文档](https://pandas.pydata.org/docs/reference/api/pandas.read_csv.html))将训练数据集'train.csv'和测试数据集'test.csv'载入到Dataframe对象中。</span>"
   ]
  },
  {
   "cell_type": "code",
   "execution_count": 2,
   "id": "f59640f4",
   "metadata": {},
   "outputs": [],
   "source": [
    "# Your code here\n",
    "\n",
    "#读取数据集\n",
    "train_frame = pd.read_csv('train.csv')\n",
    "test_frame = pd.read_csv('test.csv')\n",
    "\n",
    "#转化成numpy矩阵\n",
    "train = np.array(train_frame)\n",
    "test = np.array(test_frame)"
   ]
  },
  {
   "cell_type": "markdown",
   "id": "1bccb84d",
   "metadata": {},
   "source": [
    "<span style=\"color:purple\">2) 假设模型为一元线性回归模型$\\hat{y}=wx+b$, 损失函数为$l(w,b)=\\frac{1}{2}\\sum_{i=1}^m(\\hat{y}^{(i)}-y^{(i)})^2$, 其中$\\hat{y}^{(i)}$表示第$i$个样本的预测值，$y^{(i)}$表示第$i$个样本的实际标签值, $m$为训练集中样本的个数。求出使得损失函数最小化的参数$w$和$b$。</span>"
   ]
  },
  {
   "cell_type": "markdown",
   "id": "e011976d",
   "metadata": {},
   "source": [
    "方法① \n",
    "\n",
    "将$l(w,b)$分别对$w$和$b$求导，得到\n",
    "$$\n",
    "\\frac{\\partial l(w,b)}{\\partial w}=w\\sum_{i=1}^m x_i^2 -\\sum_{i=1}^m (y_i-b)x_i,\n",
    "$$\n",
    "$$\n",
    "\\frac{\\partial l(w,b)}{\\partial b}=mb -\\sum_{i=1}^m (y_i-wx_i),\n",
    "$$\n",
    "令上述两式为零即可得到$w$和$b$的解析解：\n",
    "$$\n",
    "w=\\frac{\\sum_{i=1}^m y_i (x_i-\\bar{x})}{\\sum_{i=1}^m x_i^2-\\frac{1}{m}(\\sum_{i=1}^m x_i)^2},\n",
    "$$\n",
    "$$\n",
    "b=\\frac{1}{m}\\sum_{i=1}^m(y_i-wx_i),\n",
    "$$\n",
    "其中$\\bar{x}=\\frac{1}{m}\\sum_{i=1}^m x_i$为$x$的均值。\n",
    "\n"
   ]
  },
  {
   "cell_type": "markdown",
   "id": "1a04bc78",
   "metadata": {},
   "source": [
    "方法② 梯度下降法。手动实现梯度下降法(不使用机器学习框架，如PyTorch、TensorFlow等)来进行模型的训练。算法步骤如下：1.初始化模型参数$w$和$b$的值；2.在负梯度的方向上更新参数(批量梯度下降、小批量随机梯度下降或者随机梯度下降均可)，并不断迭代这一步骤，更新公式(以小批量随机梯度下降为例)可以写成：$$w\\gets w-\\frac{\\eta}{\\left|B\\right|}\\sum_{i\\in{B}}x^{(i)}(wx^{(i)}+b-y^{(i)})$$, 和$$b\\gets b-\\frac{\\eta}{\\left|B\\right|}\\sum_{i\\in{B}}(wx^{(i)}+b-y^{(i)})$$， 其中$\\eta$表示学习率,$B$表示每次迭代中随机抽样的小批量，$\\left|B\\right|$则表示$B$中的样本数量。3. 终止条件为迭代次数达到某一上限或者参数更新的幅度小于某个阈值。"
   ]
  },
  {
   "cell_type": "code",
   "execution_count": 3,
   "id": "bad649ed",
   "metadata": {},
   "outputs": [
    {
     "name": "stdout",
     "output_type": "stream",
     "text": [
      "func_1: omega = 3.041479, b = 4.906074\n",
      "func_2: omega = 3.088664, b = 4.833292\n"
     ]
    }
   ],
   "source": [
    "# 方法①\n",
    "def func_1():\n",
    "    x_average = np.mean(train[:, 0])\n",
    "    omega = np.sum((train[:, 0] - x_average) * train[:, 1]) / (np.sum(train[:, 0] ** 2) - np.sum(train[:, 0]) ** 2 / len(train))\n",
    "    b = np.mean(train[:, 1] - omega * train[:, 0])\n",
    "    return omega, b\n",
    "\n",
    "# 方法②\n",
    "# 将数据集分成k个mini_batch\n",
    "def func_2(omega_init, b_init, k, learning_rate, threshold):\n",
    "    def get_mini_batches(train, k):\n",
    "        np.random.shuffle(train)\n",
    "        mini_batches = [train[i:i + k] for i in range(0, len(train), k)]\n",
    "        return mini_batches\n",
    "    \n",
    "    mini_batches = get_mini_batches(train, k)\n",
    "\n",
    "    def gradient_descent(omega, b, mini_batches):\n",
    "        # omega的更新公式\n",
    "        def omega_gd(omega, b, mini_batch):\n",
    "            total = 0\n",
    "            for x, y in mini_batch:\n",
    "                total += x * (omega * x + b - y)\n",
    "            return omega - learning_rate * total / len(mini_batch)\n",
    "\n",
    "        # b的更新公式\n",
    "        def b_gd(omega, b, mini_batch):\n",
    "            total = 0\n",
    "            for x, y in mini_batch:\n",
    "                total += omega * x + b - y\n",
    "            return b - learning_rate * total / len(mini_batch)\n",
    "        \n",
    "        while True:\n",
    "            random_index = np.random.randint(0, len(mini_batches))\n",
    "            mini_batch = mini_batches[random_index]\n",
    "            omega_new, b_new = omega_gd(omega, b, mini_batch), b_gd(omega, b, mini_batch)\n",
    "            # 终止条件为参数更新的幅度小于阈值threshold\n",
    "            if abs(omega_new - omega) < threshold and abs(b_new - b) < threshold:\n",
    "                break\n",
    "            omega, b = omega_new, b_new\n",
    "        return omega, b\n",
    "    return gradient_descent(omega_init, b_init, mini_batches)\n",
    "\n",
    "omega_1, b_1 = func_1()\n",
    "print('func_1: omega = %f, b = %f' % (omega_1, b_1))\n",
    "\n",
    "#omega和b为任意初始值，k取10，学习率取0.01，阈值取0.0001\n",
    "k = 10\n",
    "learning_rate = 0.01\n",
    "threshold = 0.0001\n",
    "\n",
    "omega_2, b_2 = func_2(1, 1, k, learning_rate, threshold)\n",
    "print('func_2: omega = %f, b = %f' % (omega_2, b_2))"
   ]
  },
  {
   "cell_type": "markdown",
   "id": "844f2a87",
   "metadata": {},
   "source": [
    "方法③ \n",
    "\n",
    "用矩阵表示，假设数据集有$m$个样本，特征有$n$维$。X=\\left[ \\begin{matrix} x_{11} & x_{12} & \\cdots & x_{1n} & 1 \\\\\n",
    "                         x_{21} & x_{22} & \\cdots & x_{2n} & 1 \\\\\n",
    "                         \\vdots & \\vdots &      & \\vdots & \\vdots \\\\\n",
    "                         x_{m1} & x_{m2} & \\cdots & x_{mn} & 1 \\end{matrix} \\right]$,\n",
    "        实际标签$Y=\\left[ \\begin{matrix} y_{1} \\\\\n",
    "                         y_{2} \\\\\n",
    "                         \\vdots \\\\\n",
    "                         y_{m}\\end{matrix} \\right]$,\n",
    "        参数$B=\\left[ \\begin{matrix} w_{1} \\\\\n",
    "                         w_{2} \\\\\n",
    "                         \\vdots \\\\\n",
    "                         w_{n} \\\\\n",
    "                         b\\end{matrix} \\right]$，则解析解为$B^*=(X^T X)^{-1}X^T Y$。推导过程可参考[这篇文章](https://zhuanlan.zhihu.com/p/74157986)。"
   ]
  },
  {
   "cell_type": "markdown",
   "id": "eb16c177",
   "metadata": {},
   "source": [
    "<span style=\"color:purple\">3) 使用求解出来的线性回归模型对测试数据集'test.csv'进行预测，输出可视化结果（比如用seaborn或者matplotlib等可视化库来画出测试数据的散点图以及训练好的模型函数图像）。</span>"
   ]
  },
  {
   "cell_type": "code",
   "execution_count": 4,
   "id": "b19a5413",
   "metadata": {
    "scrolled": true
   },
   "outputs": [
    {
     "data": {
      "image/png": "[encoded data removed]",
      "text/plain": [
       "<Figure size 640x480 with 1 Axes>"
      ]
     },
     "metadata": {},
     "output_type": "display_data"
    }
   ],
   "source": [
    "# Your code here\n",
    "#A=np.array([[1,2,3],[4,5,6],[7,8,9]])\n",
    "#x = A[0, :] #从一个矩阵中提取出一行作为一个向量\n",
    "#y1 = np.array([2, 3, 5])\n",
    "#plt.plot(x, y1) #画出折线图\n",
    "#y2 = np.array([2.5, 2.8, 5.3])\n",
    "#plt.plot(x, y2, '.') #画出散点图\n",
    "#plt.show()\n",
    "\n",
    "test_x = test[:, 0]\n",
    "test_y = test[:, 1]\n",
    "\n",
    "train_y_1 = omega_1 * test_x + b_1\n",
    "train_y_2 = omega_2 * test_x + b_2\n",
    "\n",
    "plt.plot(test_x, train_y_1, 'b')\n",
    "plt.plot(test_x, train_y_2, 'r')\n",
    "plt.plot(test_x, test_y, '.')\n",
    "plt.show()"
   ]
  },
  {
   "cell_type": "markdown",
   "id": "f227579c",
   "metadata": {},
   "source": [
    "<span style=\"color:purple\">4) 在训练数据集'train2.csv'上求一个三元线性回归模型$\\hat{y}=w_0 + w_1 x_1 + w_2 x_2 + w_3 x_3$的使得损失函数$l(w_0,w_1,w_2,w_3)=\\frac{1}{2}\\sum_{i=1}^m(\\hat{y}^{(i)}-y^{(i)})^2$最小的参数$w_0,w_1,w_2$以及$w_3$。并在测试数据集'test2.csv'上进行预测，输出预测结果的均方误差$MSE(\\hat{y},y)=\\frac{1}{n}\\sum^n_{i=1}(y^{(i)}-\\hat{y}^{(i)})^2$, $n$为测试集中样本个数。</span>"
   ]
  },
  {
   "cell_type": "markdown",
   "id": "2a1f6178",
   "metadata": {},
   "source": [
    "方法① 同2)中的方法③。"
   ]
  },
  {
   "cell_type": "markdown",
   "id": "f4ea8a93",
   "metadata": {},
   "source": [
    "方法② 类似2)中的方法②。算法步骤如下：1.初始化模型参数$w_0,w_1,w_2,w_3$的值；2.在负梯度的方向上更新参数(批量梯度下降、小批量随机梯度下降或者随机梯度下降均可)，并不断迭代这一步骤，更新公式(以小批量随机梯度下降为例)可以写成：$$w_j\\gets w_j-\\frac{\\eta}{\\left|B\\right|}\\sum_{i\\in{B}}x_j^{(i)}(w_0 + w_1 x_1^{(i)}+w_2 x_2^{(i)}+w_3 x_3^{(i)}-y^{(i)}), j=0,1,2,3$$, 其中$x_0^{(i)}=1$， 其中$\\eta$表示学习率,$B$表示每次迭代中随机抽样的小批量，$\\left|B\\right|$则表示$B$中的样本数量。3. 终止条件为迭代次数达到某一上限或者参数更新的幅度小于某个阈值。"
   ]
  },
  {
   "cell_type": "code",
   "execution_count": 15,
   "id": "115f58e2",
   "metadata": {},
   "outputs": [
    {
     "name": "stdout",
     "output_type": "stream",
     "text": [
      "omega = [4.483974672173968, 1.2308467502840124, 2.17258322878662, 3.20945679025689]\n",
      "MSE = 0.383779830817784\n"
     ]
    }
   ],
   "source": [
    "# Your code here\n",
    "\n",
    "train_frame = pd.read_csv('train2.csv')\n",
    "test_frame = pd.read_csv('test2.csv')\n",
    "\n",
    "train = np.array(train_frame)\n",
    "test = np.array(test_frame)\n",
    "\n",
    "# 将数据集分成k个mini_batch\n",
    "def get_mini_batches(train, k):\n",
    "    np.random.shuffle(train)\n",
    "    mini_batches = [train[i:i + k] for i in range(0, len(train), k)]\n",
    "    return mini_batches\n",
    "\n",
    "k = 10\n",
    "mini_batches = get_mini_batches(train, k)\n",
    "\n",
    "# 学习率\n",
    "learning_rate = 0.01\n",
    "# 阈值 >= 0.001\n",
    "threshold = 0.001\n",
    "\n",
    "def gradient_descent(omega, mini_batches):\n",
    "    # omega的更新公式\n",
    "    def omega_gd(omega, mini_batch):\n",
    "        res = omega.copy()\n",
    "        mini_batch_with_x0 = np.insert(mini_batch, 0, 1, axis=1)\n",
    "        total = 0\n",
    "        for i in range(len(res)):\n",
    "            for row in mini_batch_with_x0:\n",
    "                xj = row[i]\n",
    "                total += xj * (omega[0] + omega[1] * row[1] + omega[2] * row[2] + omega[3] * row[3] - row[4])\n",
    "            res[i] -= learning_rate * total / len(mini_batch)\n",
    "        return res\n",
    "\n",
    "    while True:\n",
    "        random_index = np.random.randint(0, len(mini_batches))\n",
    "        mini_batch = mini_batches[random_index]\n",
    "        omega_new = omega_gd(omega, mini_batch)\n",
    "        flag = True\n",
    "        # 终止条件为参数更新的幅度小于阈值threshold\n",
    "        for x, y in zip(omega_new, omega):\n",
    "            if abs(x - y) >= threshold:\n",
    "                flag = False\n",
    "                break\n",
    "        omega = omega_new\n",
    "        if flag:\n",
    "            break\n",
    "    return omega\n",
    "\n",
    "#omega任意初始值\n",
    "omega = [1, 1, 1, 1]\n",
    "omega = gradient_descent(omega, mini_batches)\n",
    "\n",
    "test_x = test[:, :3]\n",
    "train_y = [omega[0] + omega[1] * x1 + omega[2] * x2 + omega[3] * x3 for x1, x2, x3 in test_x]\n",
    "test_y = test[:, 3]\n",
    "MSE = np.sum((test_y - train_y) ** 2) / len(test_y)\n",
    "print('omega = ' + str(omega))\n",
    "print('MSE = ' + str(MSE))\n",
    "\n",
    "\n"
   ]
  },
  {
   "cell_type": "markdown",
   "id": "1507673b",
   "metadata": {},
   "source": [
    "<font color=blue size=4>2.相关链接</font>"
   ]
  },
  {
   "cell_type": "markdown",
   "id": "6892053c",
   "metadata": {},
   "source": [
    "1.实验报告提交链接(有效期直至9.15 14:20): https://send2me.cn/211f55kq/Sgav4JPN0foh9Q"
   ]
  },
  {
   "cell_type": "markdown",
   "id": "3ad2992c",
   "metadata": {},
   "source": [
    "2.实验课件获取链接: https://www.jianguoyun.com/p/DWcqLm4Qp5WhChjZi5sFIAA"
   ]
  }
 ],
 "metadata": {
  "kernelspec": {
   "display_name": "Python 3 (ipykernel)",
   "language": "python",
   "name": "python3"
  },
  "language_info": {
   "codemirror_mode": {
    "name": "ipython",
    "version": 3
   },
   "file_extension": ".py",
   "mimetype": "text/x-python",
   "name": "python",
   "nbconvert_exporter": "python",
   "pygments_lexer": "ipython3",
   "version": "3.11.4"
  }
 },
 "nbformat": 4,
 "nbformat_minor": 5
}
