{
 "cells": [
  {
   "cell_type": "markdown",
   "id": "498d70fa",
   "metadata": {},
   "source": [
    "**<font color = black size=6>实验三:逻辑回归</font>**"
   ]
  },
  {
   "cell_type": "markdown",
   "id": "fa5c5483",
   "metadata": {},
   "source": [
    "**<font color = blue size=4>第一部分:函数介绍</font>**"
   ]
  },
  {
   "cell_type": "markdown",
   "id": "869f21ce",
   "metadata": {},
   "source": [
    "<span style=\"color:purple\">机器学习所使用的数据集并不一定能够直接进行使用，如可能出现缺失值或者异常值（如异常0或者异常大的数据），又或者是数据类型不适合直接应用于模型训练等。因此，数据预处理是机器学习过程中十分重要的一个部分。<br>本次实验包括数据预处理，包括判断数据是否有缺失值以及异常值、缺失值替换操作、并将部分特征值类型转换为适合模型训练的类型。在进行逻辑回归实验之前，首先介绍下上述操作所用到的python语法。</span>"
   ]
  },
  {
   "cell_type": "markdown",
   "id": "3957a94a",
   "metadata": {},
   "source": [
    "<span style=\"color:purple\">1) 判断一列中是否有缺失值</span>"
   ]
  },
  {
   "cell_type": "code",
   "execution_count": null,
   "id": "5472add3",
   "metadata": {},
   "outputs": [],
   "source": [
    "import pandas as pd\n",
    "import numpy as np\n",
    "import matplotlib.pyplot as plt\n",
    "import math\n",
    "import matplotlib as mpl\n",
    "# ignore warnings\n",
    "import warnings\n",
    "warnings.filterwarnings('ignore')"
   ]
  },
  {
   "cell_type": "code",
   "execution_count": null,
   "id": "dc6837f2",
   "metadata": {},
   "outputs": [],
   "source": [
    "#通过pandas将csv文件转换为dataframe格式后进行操作\n",
    "train1_frame = pd.read_csv('introduction.csv')\n",
    "#该数据描述了不同性别的人的身高和体重数据\n",
    "print(train1_frame)\n",
    "#打印出数据，观察数据异常值情况"
   ]
  },
  {
   "cell_type": "code",
   "execution_count": null,
   "id": "029c5ac0",
   "metadata": {},
   "outputs": [],
   "source": [
    "#可发现数据异常值包括0和空值(即NAN)\n",
    "#判断每一列是否有空值并返回每列空值的数量\n",
    "print(train1_frame.isnull().sum())\n",
    "print(train1_frame)"
   ]
  },
  {
   "cell_type": "markdown",
   "id": "75d469ff",
   "metadata": {},
   "source": [
    "<span style=\"color:purple\">2) 对每一列的缺失值和异常值进行替换操作</span>"
   ]
  },
  {
   "cell_type": "code",
   "execution_count": null,
   "id": "891fed76",
   "metadata": {},
   "outputs": [],
   "source": [
    "#先将0替换为空值，之后可考虑将空值替换为平均值。\n",
    "#利用pandas中的replace函数将某一列的指定值替换为另一个值\n",
    "train1_frame[['height', 'weight']]=train1_frame[['height', 'weight']].replace(0, np.NaN)\n",
    "print(train1_frame)"
   ]
  },
  {
   "cell_type": "code",
   "execution_count": null,
   "id": "d42546a4",
   "metadata": {},
   "outputs": [],
   "source": [
    "#替换空值为平均值\n",
    "# 先分离 height 列和weight列\n",
    "height_column = train1_frame['height']\n",
    "weight_column = train1_frame['weight']\n",
    "# 按性别分类并计算每组的平均身高和平均体重\n",
    "mean_height_by_gender = train1_frame.groupby('sex')['height'].transform('mean')\n",
    "mean_weight_by_gender = train1_frame.groupby('sex')['weight'].transform('mean')\n",
    "# 使用每个性别组的平均值来替换缺失值\n",
    "train1_frame['height'].fillna(mean_height_by_gender, inplace=True)\n",
    "train1_frame['weight'].fillna(mean_weight_by_gender, inplace=True)\n",
    "# 打印结果\n",
    "print(train1_frame)"
   ]
  },
  {
   "cell_type": "markdown",
   "id": "d0ea36f6",
   "metadata": {},
   "source": [
    "<span style=\"color:purple\">3) 将标记值从字符串变成容易操作的整数类型</span>"
   ]
  },
  {
   "cell_type": "code",
   "execution_count": null,
   "id": "8341000e",
   "metadata": {},
   "outputs": [],
   "source": [
    "print(train1_frame)\n",
    "train1_frame['sex'] = np.where(train1_frame['sex'] == \"Male\", 0, 1)\n",
    "print(train1_frame)"
   ]
  },
  {
   "cell_type": "markdown",
   "id": "ac00368d",
   "metadata": {},
   "source": [
    "<span style=\"color:purple\">4) 可视化分类决策边界</span>"
   ]
  },
  {
   "cell_type": "code",
   "execution_count": null,
   "id": "f4314e6f",
   "metadata": {},
   "outputs": [],
   "source": [
    "#确定图画边界和大小\n",
    "plt.figure(figsize=(10,5))\n",
    "x_min, x_max = 0,10\n",
    "y_min, y_max = 0,5\n",
    "#使用numpy中的meshgrid生成网格矩阵，方便进行之后的描点\n",
    "boundary_x, boundary_y = np.meshgrid(np.arange(x_min, x_max, 0.01),np.arange(y_min, y_max, 0.01))\n",
    "grid = np.c_[boundary_x.ravel(), boundary_y.ravel()]\n",
    "#加入偏置(或w_0)对应的特征为1的一列\n",
    "e=np.ones((len(grid),1))\n",
    "grid=np.c_[e,grid]\n",
    "#假定下列的模型参数\n",
    "w=np.array([[0],[3],[-6]])\n",
    "#计算出网格点中每个点对应的逻辑回归预测值\n",
    "z=grid.dot(w)\n",
    "for i in range(len(z)):\n",
    "    z[i][0]=(1/(1+np.exp(-z[i][0])))\n",
    "    if(z[i][0]<0.5):z[i][0]=0\n",
    "    else:z[i][0]=1\n",
    "#转换shape以作出决策边界\n",
    "z=z.reshape(boundary_x.shape)\n",
    "plt.contourf(boundary_x, boundary_y, z, cmap=plt.cm.Spectral, zorder=1)\n",
    "plt.show()"
   ]
  },
  {
   "cell_type": "markdown",
   "id": "8ab1eff8",
   "metadata": {},
   "source": [
    "<span style=\"color:purple\">5) 散点图</span>"
   ]
  },
  {
   "cell_type": "code",
   "execution_count": null,
   "id": "8c07701a",
   "metadata": {},
   "outputs": [],
   "source": [
    "\"\"\"\n",
    "可使用plt.scatter来绘制出测试集的每个样本点，并设置指定颜色来区分预测正确和错误的样本\n",
    "plt.scatter(x,y,c=\"color\")，x、y为坐标值，c为指定颜色\n",
    "\"\"\"\n",
    "class_1=train1_frame[train1_frame['sex']==1]\n",
    "class_0=train1_frame[train1_frame['sex']==0]\n",
    "plt.scatter(class_1['height'],class_1['weight'],c='blue')\n",
    "plt.scatter(class_0['height'],class_0['weight'],c='red')\n",
    "plt.show()"
   ]
  },
  {
   "cell_type": "markdown",
   "id": "657beb0c",
   "metadata": {},
   "source": [
    "**<font color = blue size=4>第二部分:逻辑回归</font>**"
   ]
  },
  {
   "cell_type": "code",
   "execution_count": 4,
   "id": "226badd7",
   "metadata": {},
   "outputs": [],
   "source": [
    "import pandas as pd\n",
    "import numpy as np\n",
    "import matplotlib.pyplot as plt\n",
    "import math\n",
    "import matplotlib as mpl"
   ]
  },
  {
   "cell_type": "markdown",
   "id": "7a0bdb6f",
   "metadata": {},
   "source": [
    "<span style=\"color:purple\">Iris数据集（鸢尾花卉数据集）是常用的分类实验数据集,是一类多重变量分析的数据集。我们实验选取数据集的部分内容，包含训练集80个数据样本和测试20个样本。每个数据有2个属性：花萼长度($x_1$)，花萼宽度($x_2$)。通过这2个属性预测鸢尾花卉属于（Setosa，Versicolour）二个种类中的哪一类。</span>"
   ]
  },
  {
   "cell_type": "markdown",
   "id": "70d2906a",
   "metadata": {},
   "source": [
    "<span style=\"color:purple\">1) 使用pandas库将训练数据集'flower_train.csv'与测试数据集'flower_test.csv'载入到Dataframe对象中。判断训练集中每列数据是否有缺失值或者不合理的数值，如果有，请进行数据预处理。测试集为完好的数据集，不需要进行预处理。由于花卉类型(type)为字符串类型，请将训练集和测试集中花卉类型转换为适合模型训练的类型</span>"
   ]
  },
  {
   "cell_type": "code",
   "execution_count": 5,
   "id": "f59640f4",
   "metadata": {},
   "outputs": [
    {
     "name": "stdout",
     "output_type": "stream",
     "text": [
      "     x1   x2             type\n",
      "0   NaN  3.5      Iris-setosa\n",
      "1   4.9  3.0      Iris-setosa\n",
      "2   4.7  3.2      Iris-setosa\n",
      "3   4.6  3.1      Iris-setosa\n",
      "4   5.0  3.6      Iris-setosa\n",
      "..  ...  ...              ...\n",
      "75  5.7  NaN  Iris-versicolor\n",
      "76  5.7  2.9  Iris-versicolor\n",
      "77  6.2  2.9  Iris-versicolor\n",
      "78  5.1  NaN  Iris-versicolor\n",
      "79  5.7  2.8  Iris-versicolor\n",
      "\n",
      "[80 rows x 3 columns]\n",
      "x1      5\n",
      "x2      6\n",
      "type    0\n",
      "dtype: int64\n",
      "          x1        x2             type\n",
      "0   5.032432  3.500000      Iris-setosa\n",
      "1   4.900000  3.000000      Iris-setosa\n",
      "2   4.700000  3.200000      Iris-setosa\n",
      "3   4.600000  3.100000      Iris-setosa\n",
      "4   5.000000  3.600000      Iris-setosa\n",
      "..       ...       ...              ...\n",
      "75  5.700000  2.748649  Iris-versicolor\n",
      "76  5.700000  2.900000  Iris-versicolor\n",
      "77  6.200000  2.900000  Iris-versicolor\n",
      "78  5.100000  2.748649  Iris-versicolor\n",
      "79  5.700000  2.800000  Iris-versicolor\n",
      "\n",
      "[80 rows x 3 columns]\n",
      "x1      0\n",
      "x2      0\n",
      "type    0\n",
      "dtype: int64\n",
      "          x1        x2  type\n",
      "0   5.032432  3.500000     0\n",
      "1   4.900000  3.000000     0\n",
      "2   4.700000  3.200000     0\n",
      "3   4.600000  3.100000     0\n",
      "4   5.000000  3.600000     0\n",
      "..       ...       ...   ...\n",
      "75  5.700000  2.748649     1\n",
      "76  5.700000  2.900000     1\n",
      "77  6.200000  2.900000     1\n",
      "78  5.100000  2.748649     1\n",
      "79  5.700000  2.800000     1\n",
      "\n",
      "[80 rows x 3 columns]\n",
      "     x1   x2  type\n",
      "0   5.0  3.5     0\n",
      "1   4.5  2.3     0\n",
      "2   4.4  3.2     0\n",
      "3   5.0  3.6     0\n",
      "4   5.1  3.8     0\n",
      "5   4.8  3.0     0\n",
      "6   5.1  3.7     0\n",
      "7   4.6  3.2     0\n",
      "8   5.3  3.7     0\n",
      "9   5.0  3.3     0\n",
      "10  7.0  3.2     1\n",
      "11  6.4  3.2     1\n",
      "12  6.9  3.1     1\n",
      "13  5.5  2.3     1\n",
      "14  6.5  2.8     1\n",
      "15  5.7  2.8     1\n",
      "16  6.0  3.5     1\n",
      "17  4.9  2.4     1\n",
      "18  6.6  2.9     1\n",
      "19  5.2  2.7     1\n"
     ]
    }
   ],
   "source": [
    "#your code here------\n",
    "# 将训练数据集'flower_train.csv'与测试数据集'flower_test.csv'载入到Dataframe对象中。\n",
    "train_frame = pd.read_csv(\"flower_train.csv\")\n",
    "test_frame = pd.read_csv(\"flower_test.csv\")\n",
    "\n",
    "print(train_frame)\n",
    "# 判断训练集中每列数据是否有缺失值或者不合理的数值\n",
    "print(train_frame.isnull().sum())\n",
    "\n",
    "# 先将0替换为空值\n",
    "# 利用pandas中的replace函数将某一列的指定值替换为另一个值\n",
    "train_frame[['x1', 'x2']] = train_frame[['x1', 'x2']].replace(0, np.NaN)\n",
    "\n",
    "x1_column = train_frame['x1']\n",
    "x2_column = train_frame['x2']\n",
    "\n",
    "# 将空值替换为平均值\n",
    "# 按种类分类并计算每组的平均花萼长度和花萼宽度\n",
    "mean_x1_by_type = train_frame.groupby('type')['x1'].transform('mean')\n",
    "mean_x2_by_type = train_frame.groupby('type')['x2'].transform('mean')\n",
    "# 使用每个种类组的平均值来替换缺失值\n",
    "train_frame['x1'].fillna(mean_x1_by_type, inplace=True)\n",
    "train_frame['x2'].fillna(mean_x2_by_type, inplace=True)\n",
    "\n",
    "# 查看是否还有缺失值或不合理的数值\n",
    "print(train_frame)\n",
    "print(train_frame.isnull().sum())\n",
    "\n",
    "# 将标记值从字符串变成容易操作的整数类型\n",
    "train_frame['type'] = np.where(train_frame['type'] == 'Iris-setosa', 0, 1)\n",
    "test_frame['type'] = np.where(test_frame['type'] == 'Iris-setosa', 0, 1)\n",
    "print(train_frame)\n",
    "print(test_frame)"
   ]
  },
  {
   "cell_type": "markdown",
   "id": "75b2fd55",
   "metadata": {},
   "source": [
    "<span style=\"color:purple\">2)线性模型为$y=\\omega^T x$，在这里，我们将偏置量b当成模型参数$w_0$，并额外引入$x_0=1$这一特征。请相应地往测试集和训练集添加$x_0=1$这一特征。\n",
    " \n",
    "tips:上一次实验中的矩阵求解析解的方法中，需要往特征中加入一列全1的特征量，此处类似。</span>"
   ]
  },
  {
   "cell_type": "code",
   "execution_count": 6,
   "id": "6c2c4001",
   "metadata": {},
   "outputs": [
    {
     "name": "stdout",
     "output_type": "stream",
     "text": [
      "    x0        x1        x2  type\n",
      "0    1  5.032432  3.500000     0\n",
      "1    1  4.900000  3.000000     0\n",
      "2    1  4.700000  3.200000     0\n",
      "3    1  4.600000  3.100000     0\n",
      "4    1  5.000000  3.600000     0\n",
      "..  ..       ...       ...   ...\n",
      "75   1  5.700000  2.748649     1\n",
      "76   1  5.700000  2.900000     1\n",
      "77   1  6.200000  2.900000     1\n",
      "78   1  5.100000  2.748649     1\n",
      "79   1  5.700000  2.800000     1\n",
      "\n",
      "[80 rows x 4 columns]\n",
      "    x0   x1   x2  type\n",
      "0    1  5.0  3.5     0\n",
      "1    1  4.5  2.3     0\n",
      "2    1  4.4  3.2     0\n",
      "3    1  5.0  3.6     0\n",
      "4    1  5.1  3.8     0\n",
      "5    1  4.8  3.0     0\n",
      "6    1  5.1  3.7     0\n",
      "7    1  4.6  3.2     0\n",
      "8    1  5.3  3.7     0\n",
      "9    1  5.0  3.3     0\n",
      "10   1  7.0  3.2     1\n",
      "11   1  6.4  3.2     1\n",
      "12   1  6.9  3.1     1\n",
      "13   1  5.5  2.3     1\n",
      "14   1  6.5  2.8     1\n",
      "15   1  5.7  2.8     1\n",
      "16   1  6.0  3.5     1\n",
      "17   1  4.9  2.4     1\n",
      "18   1  6.6  2.9     1\n",
      "19   1  5.2  2.7     1\n"
     ]
    }
   ],
   "source": [
    "#your code here------\n",
    "# 额外引入𝑥0=1这一特征，\n",
    "train_frame.insert(0, 'x0', 1)\n",
    "test_frame.insert(0, 'x0', 1)\n",
    "print(train_frame)\n",
    "print(test_frame)"
   ]
  },
  {
   "cell_type": "markdown",
   "id": "fec5c2ed",
   "metadata": {},
   "source": [
    "<span style=\"color:purple\">3) 由于逻辑回归的原理是用逻辑函数把线性回归的结果(-∞,∞)映射到(0,1)所以逻辑回归适合于二分类问题。我们使用sigmoid函数$g(z)=\\frac{1}{1+e^{-z}}$将把线性回归的结果从(-∞,∞)映射到(0,1)。  \n",
    "    假设模型为线性回归模型$\\hat{y}=\\omega_0+\\omega_1 x_1+\\omega_2 x_2+...+\\omega_n x_n=\\omega^T x$，则在给定样本特征$x$,其标记$y=1$的概率为$$P(y=1|x,w)=\\frac{1}{1+e^{-\\omega^T x}}$$  \n",
    "    对应于任意一个样本(${x_i}$,$y_i$),其中$x_i$为特征值，$y_i$为实际标记值,在参数$\\omega$下，该样本发生的概率为$$P(y_i|x_i,\\omega)=y_i{P(y_i=1|x_i,\\omega)}+({1-y_i}){P(y_i=0|x_i,\\omega)}$$\n",
    "    将每个样本发生概率相乘，得到似然函数:$$\\Pi^m_{i=1}{P(y_i|x_i,\\omega)}$$\n",
    "    为了计算方便，一般取对数得到对数似然函数:$$L(\\omega)=\\sum^m_{i=1}{lnP(y_i|x_i,\\omega)}$$  \n",
    "    我们总是希望出现预测正确的概率的可能性最大，即想要得到极大化似然函数对应的参数$\\omega$。我们进一步将最大化似然函数就转变为最小化似然函数的负数，以方便使用梯度下降法进行求解。取负的平均对数似然函数为损失函数,通过这样构建的损失函数$$J(\\omega)=-\\frac{1}{m}\\sum^m_{i=1}{lnP(y_i|x_i,\\omega)}=-\\frac{1}{m}\\sum^m_{i=1}ln(y_i\\frac{1}{1+e^{-\\omega^T x_i}}+(1-y_i)\\frac{e^{-\\omega^T x_i}}{1+e^{-\\omega^T x_i}})$$  \n",
    "    手动实现梯度下降法(不使用机器学习框架，如PyTorch、TensorFlow等)来进行模型的训练。  </span>"
   ]
  },
  {
   "cell_type": "markdown",
   "id": "f1a81c73",
   "metadata": {},
   "source": [
    "<span style=\"color:purple\">算法步骤如下：①初始化模型参数$\\omega$的值；②在负梯度的方向上更新参数(由于该实验涉及样本数量较小，建议使用批量梯度下降)，并不断迭代这一步骤。</span>"
   ]
  },
  {
   "cell_type": "markdown",
   "id": "4e922340",
   "metadata": {},
   "source": [
    "<span style=\"color:purple\">其中梯度的下降偏导公式为\n",
    "    $$\\frac{\\partial J}{\\partial \\omega_j}=\\frac{1}{m}\\sum_{i=1}^m x_{ij}(\\frac{e^{\\omega^T x_i}}{1+e^{\\omega^T x_i}}-y_i)$$  \n",
    "    参数更新的公式为$$\\omega_j =\\omega_j-\\eta\\frac{\\partial J}{\\partial w_j}$$其中$\\eta$表示学习率，$m$则表示批量中的样本数量，$x_{ij}$代表着第i个样本的第j个特征值,$y_i$代表着第i个样本的真实值</span>\n"
   ]
  },
  {
   "cell_type": "code",
   "execution_count": 7,
   "id": "8a92473b",
   "metadata": {},
   "outputs": [
    {
     "name": "stdout",
     "output_type": "stream",
     "text": [
      "[-0.15799500857073695, 4.092624517144395, -7.081496974628665]\n"
     ]
    }
   ],
   "source": [
    "#your code here------\n",
    "def batch_gradient_descent(omega_init, sample, learning_rate, threshold):\n",
    "    def omega_update(omega):\n",
    "        while True:\n",
    "            omega_new = omega.copy()\n",
    "            total_list = [0] * len(sample)\n",
    "            for i in range(len(sample)):\n",
    "                wx = omega[0] * sample[i][0] + omega[1] * sample[i][1] + omega[2] * sample[i][2]\n",
    "                ewx = math.exp(wx)\n",
    "                total_list[i] = (ewx / (1 + ewx) - sample[i][3])\n",
    "            for i in range(3):\n",
    "                s = 0\n",
    "# 梯度的下降偏导公式\n",
    "                for j, total in enumerate(total_list):\n",
    "                    s += total * sample[j][i]\n",
    "# 参数更新的公式                \n",
    "                omega_new[i] = omega_new[i] - learning_rate * s / len(sample)\n",
    "# 当omega_new和omega的变化程度小于threshold时结束迭代\n",
    "            if all(abs(x - y) < threshold for x, y in zip(omega_new, omega)):\n",
    "                break\n",
    "            omega = omega_new\n",
    "        return omega\n",
    "    \n",
    "    omega = omega_update(omega_init)\n",
    "    return omega\n",
    "\n",
    "# 初始化模型参数omega的值\n",
    "omega_init = [1, 1, 1]\n",
    "# 学习率设置为0.01\n",
    "learning_rate = 0.01\n",
    "# 阈值设置为0.001\n",
    "threshold = 0.0001\n",
    "\n",
    "train = np.array(train_frame)\n",
    "omega = batch_gradient_descent(omega_init, train, learning_rate, threshold)\n",
    "print(omega)"
   ]
  },
  {
   "cell_type": "markdown",
   "id": "b24f2e7e",
   "metadata": {},
   "source": [
    "<span style=\"color:purple\">4)在模型训练完成后得到所训练的模型参数$\\omega$，在测试集上进行所训练模型的测试并使用之前所介绍的损失函数计算loss值</span>"
   ]
  },
  {
   "cell_type": "code",
   "execution_count": 8,
   "id": "a4253a5c",
   "metadata": {},
   "outputs": [
    {
     "name": "stdout",
     "output_type": "stream",
     "text": [
      "0.1764902843715745\n"
     ]
    }
   ],
   "source": [
    "#your code here------\n",
    "test = np.array(test_frame)\n",
    "# 在模型训练完成后得到所训练的模型参数omega，在测试集上进行所训练模型的测试\n",
    "trained = [omega[0] + omega[1] * x[1] + omega[2] * x[2] for x in test]\n",
    "\n",
    "# 使用损失函数计算loss值\n",
    "loss = 0\n",
    "for i in range(len(test)):\n",
    "    loss += math.log(test[i][3] / (1 + math.exp(-trained[i])) + (1 - test[i][3]) * math.exp(-trained[i]) / (1 + math.exp(-trained[i])))\n",
    "loss = -loss / len(test)\n",
    "\n",
    "print(loss)"
   ]
  },
  {
   "cell_type": "markdown",
   "id": "dd339060",
   "metadata": {},
   "source": [
    "<span style=\"color:purple\">5)使用训练后的逻辑回归模型对测试数据集'flower_test.csv'进行预测，输出可视化结果（比如用seaborn或者matplotlib等可视化库来画出测试数据的散点图以及训练好的模型函数图像)，要求如下:  \n",
    "    1.将所得到的逻辑回归模型所得到的决策边界绘制出来  \n",
    "  2.测试集的所有点在同一幅图中进行绘制  \n",
    "  3.需要给不同类别的测试点不同颜色，方便通过颜色的区别直观看到预测正确和错误的样本</span>"
   ]
  },
  {
   "cell_type": "code",
   "execution_count": 9,
   "id": "3597e87c",
   "metadata": {
    "scrolled": true
   },
   "outputs": [
    {
     "data": {
      "image/png": "[encoded data removed]",
      "text/plain": [
       "<Figure size 1000x500 with 1 Axes>"
      ]
     },
     "metadata": {},
     "output_type": "display_data"
    }
   ],
   "source": [
    "#your code here------\n",
    "#确定图画边界和大小\n",
    "plt.figure(figsize=(10,5))\n",
    "x_min, x_max = 0,10\n",
    "y_min, y_max = 0,5\n",
    "#使用numpy中的meshgrid生成网格矩阵，方便进行之后的描点\n",
    "boundary_x, boundary_y = np.meshgrid(np.arange(x_min, x_max, 0.01),np.arange(y_min, y_max, 0.01))\n",
    "grid = np.c_[boundary_x.ravel(), boundary_y.ravel()]\n",
    "#加入偏置(或w_0)对应的特征为1的一列\n",
    "e=np.ones((len(grid),1))\n",
    "grid=np.c_[e,grid]\n",
    "#假定下列的模型参数\n",
    "w=np.array([[omega[0]],[omega[1]],[omega[2]]])\n",
    "#计算出网格点中每个点对应的逻辑回归预测值\n",
    "z=grid.dot(w)\n",
    "for i in range(len(z)):\n",
    "    z[i][0] = (1 / (1 + np.exp(-z[i][0])))\n",
    "    if z[i][0]<0.5:\n",
    "        z[i][0]=0\n",
    "    else:\n",
    "        z[i][0]=1\n",
    "#转换shape将所得到的逻辑回归模型所得到的决策边界绘制出来\n",
    "z=z.reshape(boundary_x.shape)\n",
    "plt.contourf(boundary_x, boundary_y, z, cmap=plt.cm.Spectral, zorder=1)\n",
    "\n",
    "# 测试集的所有点在同一幅图中进行绘制\n",
    "class_1 = test_frame[test_frame['type'] == 1]\n",
    "class_0 = test_frame[test_frame['type'] == 0]\n",
    "# 给type == 1的测试点蓝色，给type == 0的测试点红色，通过颜色的区别直观看到预测正确和错误的样本\n",
    "plt.scatter(class_1['x1'],class_1['x2'],c='blue')\n",
    "plt.scatter(class_0['x1'],class_0['x2'],c='red')\n",
    "plt.show()"
   ]
  },
  {
   "cell_type": "markdown",
   "id": "b869bee1",
   "metadata": {},
   "source": [
    "**<font color = blue size=4>第三部分:逻辑回归实验二</font>**"
   ]
  },
  {
   "cell_type": "markdown",
   "id": "cf3a5a55",
   "metadata": {},
   "source": [
    "<span style=\"color:purple\">该数据集(train_titanic.csv和test_titanic.csv)同样为分类数据集，为泰坦尼克号的乘客信息以及最后是否生还。每个包括了七个特征值以及标记(代表是否生还),特征信息分别为Passengerid(乘客id)，Age(乘客年龄)，Fare(船票价格),Sex(性别)，sibsp(堂兄弟妹个数)，Parch(父母与小孩的个数)，Pclass(乘客等级)</span>"
   ]
  },
  {
   "cell_type": "markdown",
   "id": "f4a492fe",
   "metadata": {},
   "source": [
    "<span style=\"color:purple\">该数据集已经做了处理，无缺失值和空值，且字符串类型全部转换成了整数类型，你们需要进行判断，在七个特征值至少选择四个你认为与最后是否生还关联度高的特征类别。该实验的任务依然是在训练集上使用逻辑回归方法和手动实现的梯度下降方法完成模型训练。</span>"
   ]
  },
  {
   "cell_type": "code",
   "execution_count": 1,
   "id": "7ebd3c1e",
   "metadata": {},
   "outputs": [],
   "source": [
    "# 导入机器学习常用的库\n",
    "import pandas as pd\n",
    "import numpy as np\n",
    "import matplotlib.pyplot as plt\n",
    "import math"
   ]
  },
  {
   "cell_type": "markdown",
   "id": "915ff106",
   "metadata": {},
   "source": [
    "<span style=\"color:purple\">1) 使用pandas库将训练数据集'train_titanic.csv'与测试数据集'test_titanic.csv'载入到Dataframe对象中</span>"
   ]
  },
  {
   "cell_type": "code",
   "execution_count": 2,
   "id": "7056ffde",
   "metadata": {},
   "outputs": [],
   "source": [
    "#your code here------\n",
    "# 使用pandas库将训练集'train_titanic.csv'与测试数据集'test_titanic.csv'载入到Dataframe对象中\n",
    "train_frame = pd.read_csv(\"train_titanic.csv\")\n",
    "test_frame = pd.read_csv(\"test_titanic.csv\")"
   ]
  },
  {
   "cell_type": "markdown",
   "id": "9abde442",
   "metadata": {},
   "source": [
    "<span style=\"color:purple\">2)利用上个实验所使用的梯度下降方法(由于该数据集样本数量较大，所以建议使用随机批量或小批量)进行模型训练</span>"
   ]
  },
  {
   "cell_type": "code",
   "execution_count": 3,
   "id": "55e62317",
   "metadata": {},
   "outputs": [
    {
     "ename": "OverflowError",
     "evalue": "math range error",
     "output_type": "error",
     "traceback": [
      "\u001b[1;31m---------------------------------------------------------------------------\u001b[0m",
      "\u001b[1;31mOverflowError\u001b[0m                             Traceback (most recent call last)",
      "Cell \u001b[1;32mIn[3], line 50\u001b[0m\n\u001b[0;32m     47\u001b[0m threshold \u001b[38;5;241m=\u001b[39m \u001b[38;5;241m0.0001\u001b[39m\n\u001b[0;32m     49\u001b[0m train \u001b[38;5;241m=\u001b[39m np\u001b[38;5;241m.\u001b[39marray(train_frame)\n\u001b[1;32m---> 50\u001b[0m omega \u001b[38;5;241m=\u001b[39m batch_gradient_descent(omega_init, train, learning_rate, threshold)\n\u001b[0;32m     51\u001b[0m \u001b[38;5;28mprint\u001b[39m(omega)\n",
      "Cell \u001b[1;32mIn[3], line 41\u001b[0m, in \u001b[0;36mbatch_gradient_descent\u001b[1;34m(omega_init, sample, learning_rate, threshold)\u001b[0m\n\u001b[0;32m     38\u001b[0m         omega \u001b[38;5;241m=\u001b[39m omega_new\n\u001b[0;32m     39\u001b[0m     \u001b[38;5;28;01mreturn\u001b[39;00m omega\n\u001b[1;32m---> 41\u001b[0m omega \u001b[38;5;241m=\u001b[39m omega_update(omega_init)\n\u001b[0;32m     42\u001b[0m \u001b[38;5;28;01mreturn\u001b[39;00m omega\n",
      "Cell \u001b[1;32mIn[3], line 23\u001b[0m, in \u001b[0;36mbatch_gradient_descent.<locals>.omega_update\u001b[1;34m(omega)\u001b[0m\n\u001b[0;32m     15\u001b[0m \u001b[38;5;28;01mfor\u001b[39;00m i \u001b[38;5;129;01min\u001b[39;00m \u001b[38;5;28mrange\u001b[39m(\u001b[38;5;28mlen\u001b[39m(sample)):\n\u001b[0;32m     16\u001b[0m     wx \u001b[38;5;241m=\u001b[39m (\n\u001b[0;32m     17\u001b[0m         omega[\u001b[38;5;241m0\u001b[39m] \u001b[38;5;241m*\u001b[39m sample[i][\u001b[38;5;241m0\u001b[39m]\n\u001b[0;32m     18\u001b[0m         \u001b[38;5;241m+\u001b[39m omega[\u001b[38;5;241m1\u001b[39m] \u001b[38;5;241m*\u001b[39m sample[i][\u001b[38;5;241m1\u001b[39m]\n\u001b[1;32m   (...)\u001b[0m\n\u001b[0;32m     21\u001b[0m         \u001b[38;5;241m+\u001b[39m omega[\u001b[38;5;241m4\u001b[39m] \u001b[38;5;241m*\u001b[39m sample[i][\u001b[38;5;241m4\u001b[39m]\n\u001b[0;32m     22\u001b[0m     )\n\u001b[1;32m---> 23\u001b[0m     ewx \u001b[38;5;241m=\u001b[39m math\u001b[38;5;241m.\u001b[39mexp(wx)\n\u001b[0;32m     24\u001b[0m     \u001b[38;5;66;03m# print(ewx)\u001b[39;00m\n\u001b[0;32m     25\u001b[0m     total_list[i] \u001b[38;5;241m=\u001b[39m ewx \u001b[38;5;241m/\u001b[39m (\u001b[38;5;241m1\u001b[39m \u001b[38;5;241m+\u001b[39m ewx) \u001b[38;5;241m-\u001b[39m sample[i][\u001b[38;5;241m5\u001b[39m]\n",
      "\u001b[1;31mOverflowError\u001b[0m: math range error"
     ]
    }
   ],
   "source": [
    "#your code here------\n",
    "# 相应地往测试集和训练集添加𝑥0=1这一特征\n",
    "train_frame.insert(0, \"x0\", 1)\n",
    "test_frame.insert(0, \"x0\", 1)\n",
    "\n",
    "# 批量梯度下降\n",
    "def batch_gradient_descent(omega_init, sample, learning_rate, threshold):\n",
    "\n",
    "    def omega_update(omega):\n",
    "        while True:\n",
    "            omega_new = omega.copy()\n",
    "            # print(omega_new)\n",
    "            total_list = [0] * len(sample)\n",
    "            # print(\"hahaha\")\n",
    "            for i in range(len(sample)):\n",
    "                wx = (\n",
    "                    omega[0] * sample[i][0]\n",
    "                    + omega[1] * sample[i][1]\n",
    "                    + omega[2] * sample[i][2]\n",
    "                    + omega[3] * sample[i][3]\n",
    "                    + omega[4] * sample[i][4]\n",
    "                )\n",
    "                ewx = math.exp(wx)\n",
    "                # print(ewx)\n",
    "                total_list[i] = ewx / (1 + ewx) - sample[i][5]\n",
    "            # print(total_list)\n",
    "            for i in range(5):\n",
    "                s = 0\n",
    "# 梯度的下降偏导公式\n",
    "                for j, total in enumerate(total_list):\n",
    "                    s += total * sample[j][i]\n",
    "# 参数更新的公式\n",
    "                omega_new[i] = omega_new[i] - learning_rate * s / len(sample)\n",
    "            if all(abs(x - y) < threshold for x, y in zip(omega_new, omega)):\n",
    "                break\n",
    "            omega = omega_new\n",
    "        return omega\n",
    "\n",
    "    omega = omega_update(omega_init)\n",
    "    return omega\n",
    "\n",
    "# 初始化模型参数omega的值\n",
    "omega_init = [1, 1, 1, 1, 1]\n",
    "# 学习率设置为0.01\n",
    "learning_rate = 0.01\n",
    "# 阈值设置为0.001\n",
    "threshold = 0.0001\n",
    "\n",
    "train = np.array(train_frame)\n",
    "omega = batch_gradient_descent(omega_init, train, learning_rate, threshold)\n",
    "print(omega)\n"
   ]
  },
  {
   "cell_type": "markdown",
   "id": "95f698bc",
   "metadata": {},
   "source": [
    "<span style=\"color:purple\">3) 使用训练后的逻辑回归模型对测试数据集'test_titanic.csv'进行预测，并计算其loss值：</span>"
   ]
  },
  {
   "cell_type": "code",
   "execution_count": null,
   "id": "4dd020b7",
   "metadata": {},
   "outputs": [],
   "source": [
    "#your code here------\n",
    "# 使用训练后的逻辑回归模型对测试数据集'test_titanic.csv'进行预测\n",
    "test = np.array(test_frame)\n",
    "trained = [\n",
    "    omega[0] + omega[1] * x[1] + omega[2] * x[2] + omega[3] * x[3] + omega[4] * x[4]\n",
    "    for x in test\n",
    "]\n",
    "\n",
    "# 使用损失函数计算loss值\n",
    "loss = 0\n",
    "for i in range(len(test)):\n",
    "    loss += math.log(\n",
    "        test[i][5] / (1 + math.exp(-trained[i]))\n",
    "        + (1 - test[i][5]) * math.exp(-trained[i]) / (1 + math.exp(-trained[i]))\n",
    "    )\n",
    "loss = -loss / len(test)\n",
    "\n",
    "print(loss)\n",
    "\n"
   ]
  },
  {
   "cell_type": "markdown",
   "id": "354bddd7",
   "metadata": {},
   "source": [
    "**<font color = blue size=4>第四部分:作业提交链接</font>**"
   ]
  },
  {
   "cell_type": "markdown",
   "id": "35a454a5",
   "metadata": {},
   "source": [
    "1.实验报告提交链接(有效期直至9.22 14:20): https://send2me.cn/uohF8xm-/SvKmbAQRlFSKqQ\n",
    "\n",
    "实验报告需包含：内容，代码，解释，结果，总结"
   ]
  },
  {
   "cell_type": "markdown",
   "id": "be05c034",
   "metadata": {},
   "source": [
    "2.实验课件获取链接: https://www.jianguoyun.com/p/DZzHw20Qp5WhChjwoZwFIAA"
   ]
  }
 ],
 "metadata": {
  "kernelspec": {
   "display_name": "Python 3 (ipykernel)",
   "language": "python",
   "name": "python3"
  },
  "language_info": {
   "codemirror_mode": {
    "name": "ipython",
    "version": 3
   },
   "file_extension": ".py",
   "mimetype": "text/x-python",
   "name": "python",
   "nbconvert_exporter": "python",
   "pygments_lexer": "ipython3",
   "version": "3.11.4"
  }
 },
 "nbformat": 4,
 "nbformat_minor": 5
}
