{
 "cells": [
  {
   "cell_type": "markdown",
   "id": "eb50e2ce",
   "metadata": {},
   "source": [
    "**<font color = black size=6>实验十一：支持向量机</font>**"
   ]
  },
  {
   "cell_type": "code",
   "execution_count": null,
   "id": "95f5ebed",
   "metadata": {},
   "outputs": [],
   "source": [
    "import numpy as np\n",
    "import pandas as pd\n",
    "import matplotlib.pyplot as plt\n",
    "import math\n",
    "import cvxopt\n",
    "from cvxopt import matrix\n",
    "from cvxopt import solvers"
   ]
  },
  {
   "cell_type": "markdown",
   "id": "714b16e8",
   "metadata": {},
   "source": [
    "**<font color = blue size=4>第一部分:函数介绍</font>**"
   ]
  },
  {
   "cell_type": "markdown",
   "id": "d3531f8a",
   "metadata": {},
   "source": [
    "二次规划问题是形式如下的一类最优化问题：\n",
    "$$\n",
    "\\begin{align}\n",
    "\\min_x \\quad  &\\frac{1}{2}x^TPx+q^Tx \\\\\n",
    "s.t. \\quad  &Gx\\leq h \\\\\n",
    "      &Ax=b\n",
    "\\end{align}\n",
    "$$\n",
    "对于这一类问题可以使用[cvxopt](https://cvxopt.org/userguide/coneprog.html#quadratic-programming)库的solvers.qp()函数进行求解。"
   ]
  },
  {
   "cell_type": "markdown",
   "id": "20b0f664",
   "metadata": {},
   "source": [
    "以下是一个例子（参考[Solving a quadratic program](https://cvxopt.org/examples/tutorial/qp.html)）:\n",
    "$$\n",
    "\\begin{align}\n",
    "\\min_x \\quad  &2x_1^2+x_2^2+x_1x_2+x_1+x_2 \\\\\n",
    "s.t. \\quad  &x_1\\geq 0 \\\\\n",
    "      &x_2\\geq 0 \\\\\n",
    "      &x_1+x_2=1\n",
    "\\end{align}\n",
    "$$\n",
    "为了使用solvers.qp()函数，我们需要知道在该二次规划问题中的$P,q,G,h,A,b$矩阵分别是什么。\n",
    "在该优化问题中，\n",
    "\n",
    "* $P:=\\begin{bmatrix}\n",
    "    4 & 1 \\\\ 1 & 2\n",
    "   \\end{bmatrix}$,\n",
    "* $q:=\\begin{bmatrix}\n",
    "    1 \\\\ 1\n",
    "   \\end{bmatrix}$,\n",
    "* $G:=\\begin{bmatrix}\n",
    "    -1 & 0 \\\\ 0 & -1\n",
    "   \\end{bmatrix}$,\n",
    "* $h:=\\begin{bmatrix}\n",
    "    0 \\\\ 0\n",
    "   \\end{bmatrix}$,\n",
    "* $A:=\\begin{bmatrix}\n",
    "    1 & 1\n",
    "   \\end{bmatrix}$,\n",
    "* $b:=\\begin{bmatrix}\n",
    "    1\n",
    "   \\end{bmatrix}$,\n",
    "   \n",
    "把这些参数送入solvers.qp()函数中即可求出解。"
   ]
  },
  {
   "cell_type": "code",
   "execution_count": null,
   "id": "9e5b5531",
   "metadata": {},
   "outputs": [],
   "source": [
    "# Tips1: cvxopt库中的matrix只接受double类型的数据\n",
    "# Tips2: matrix使用列表作为参数创建矩阵和numpy.array使用列表作为参数创建矩阵是不同的\n",
    "# print(matrix([[1.0, 1.0]]))\n",
    "# print(np.array([[1.0, 1.0]]))\n",
    "# print(matrix(np.array([[1.0, 1.0]])))\n",
    "Q = 2*matrix([ [2, .5], [.5, 1] ])\n",
    "p = matrix([1.0,1.0])\n",
    "G = matrix([[-1.0,0.0],[0.0,-1.0]])\n",
    "h = matrix([0.0,0.0])\n",
    "A = matrix([1.0, 1.0], (1,2))\n",
    "b = matrix(1.0)\n",
    "sol=solvers.qp(Q, p, G, h, A, b)\n",
    "print(sol['x'])"
   ]
  },
  {
   "cell_type": "markdown",
   "id": "2384abb1",
   "metadata": {},
   "source": [
    "**<font color = blue size=4>第二部分:实验任务</font>**"
   ]
  },
  {
   "cell_type": "markdown",
   "id": "68091bb5",
   "metadata": {},
   "source": [
    "1.线性可分支持向量机与硬间隔最大化"
   ]
  },
  {
   "cell_type": "markdown",
   "id": "ad91cf52",
   "metadata": {},
   "source": [
    "<span style=\"color:purple\">1)  \n",
    "这一部分使用的数据集'dataset1.csv'是一个线性可分的数据集。每个数据样本包含两个特征$x_1$, $x_2$以及一个标签$y\\in\\{1,-1\\}$。  \n",
    "首先，请读入数据集'dataset1.csv',把数据类型都转换成np.double类型，并画出数据集的散点图，给正样本（y为+1）和负样本（y为-1）分别标上不同的颜色。</span>"
   ]
  },
  {
   "cell_type": "code",
   "execution_count": null,
   "id": "1b25ddd4",
   "metadata": {},
   "outputs": [],
   "source": [
    "# ---- Your code here ----\n",
    "\n",
    "\n",
    "\n"
   ]
  },
  {
   "cell_type": "markdown",
   "id": "379e4e44",
   "metadata": {},
   "source": [
    "<span style=\"color:purple\">2)  \n",
    "求对偶问题的最优解$\\lambda^*$  \n",
    "在数据线性可分的场景中，为了找到一个能最好地划分正样本和负样本的超平面$\\pmb{\\omega}^T \\pmb{x}+b=0$，我们需要求解下面这个主问题。\n",
    "\\begin{align}\n",
    "\\min_{\\pmb{\\omega},b}\\quad &\\frac12 ||\\pmb{\\omega}||^2\\\\\n",
    "s.t.\\quad &y_i(\\pmb{\\omega}^T \\pmb{x}_i+b)\\ge 1,i=1,...,m\n",
    "\\end{align}\n",
    "</span>"
   ]
  },
  {
   "cell_type": "markdown",
   "id": "bbcf4613",
   "metadata": {},
   "source": [
    "<span style=\"color:purple\">对应地，即求解如下对偶问题（参考课件）：</span>\n",
    "$$\n",
    "\\begin{align}\n",
    "\\min_\\lambda \\quad  &\\frac{1}{2}\\sum_{i=1}^m\\sum_{j=1}^m\\lambda_i\\lambda_jy_iy_j\\pmb{x}_i^T\\pmb{x}_j-\\sum_{i=1}^m\\lambda_i \\\\\n",
    "s.t. \\quad  &\\sum_{i=1}^m\\lambda_iy_i=0 \\\\\n",
    "      &\\pmb{\\lambda}\\geq \\pmb{0}\n",
    "\\end{align}\n",
    "$$\n",
    "\n",
    "这个优化问题是一个二次规划问题，可以写成如下形式：\n",
    "$$\n",
    "\\begin{align}\n",
    "\\min_{\\pmb{\\lambda}} \\quad  &\\frac{1}{2}\\lambda^TP\\lambda+q^T\\lambda \\\\\n",
    "s.t. \\quad  &G\\lambda\\leq h \\\\\n",
    "      &A\\lambda=b\n",
    "\\end{align}\n",
    "$$\n",
    "\n",
    "* $P是一个m\\times m的矩阵，其中P_{ij}=y_iy_j\\pmb{x}_i^T\\pmb{x}_j$,\n",
    "* $q是一个m\\times 1的所有值都为-1的列向量，即q:=\\begin{bmatrix}\n",
    "    -1 & -1 & \\cdots & -1\n",
    "   \\end{bmatrix}^T$,\n",
    "* $G:=\\begin{bmatrix}\n",
    "    -1 & 0 & \\cdots & 0 \\\\\n",
    "    0 & -1 & \\cdots & 0 \\\\\n",
    "   \\vdots & \\vdots & \\ddots &0 \\\\\n",
    "   0 & 0 & 0 & -1\n",
    "   \\end{bmatrix}_{m\\times m}=-\\pmb{I},\\pmb{I}为单位矩阵,$\n",
    "* $h是一个m\\times 1的零向量,即h:=\\begin{bmatrix}\n",
    "    0 & 0 & \\cdots & 0\n",
    "   \\end{bmatrix}^T$,\n",
    "* $A:=\\begin{bmatrix}\n",
    "    y_1 & y_2 & \\cdots & y_m\n",
    "   \\end{bmatrix}^T$,\n",
    "* $b:=\\begin{bmatrix}\n",
    "    0\n",
    "   \\end{bmatrix},一个标量$\n",
    "   \n",
    "把上述参数送入求解器solvers.qp()中即可得到最优解$\\lambda^*$。 \n",
    " \n",
    "附：$P$矩阵的一个计算方法：\n",
    "设$X=\\begin{bmatrix}\n",
    "    x_{11} & x_{12} \\\\\n",
    "    x_{21} & x_{22} \\\\\n",
    "    \\vdots & \\vdots \\\\\n",
    "    x_{m1} & x_{m2}\n",
    "   \\end{bmatrix}$,\n",
    "   $Y=\\begin{bmatrix}\n",
    "    y_{1} \\\\\n",
    "    y_{2} \\\\\n",
    "    \\vdots \\\\\n",
    "    y_{m}\n",
    "   \\end{bmatrix}$,\n",
    "   \n",
    "计算$X'=\\begin{bmatrix}\n",
    "    x_{11}y_1 & x_{12}y_1 \\\\\n",
    "    x_{21}y_2 & x_{22}y_2 \\\\\n",
    "    \\vdots & \\vdots \\\\\n",
    "    x_{m1}y_m & x_{m2}y_m\n",
    "   \\end{bmatrix}=X*Y(注意这里是星乘)$\n",
    "   \n",
    "则$P=X'X'^T$。"
   ]
  },
  {
   "cell_type": "code",
   "execution_count": null,
   "id": "1537fe6b",
   "metadata": {},
   "outputs": [],
   "source": [
    "# ---- Your code here ----\n",
    "#如果求解报错可以尝试在solvers.qp()中添加参数kktsolver='ldl'\n",
    "\n",
    "\n",
    "\n"
   ]
  },
  {
   "cell_type": "markdown",
   "id": "825c6609",
   "metadata": {},
   "source": [
    "<span style=\"color:purple\">3)  \n",
    "求出$\\pmb{\\omega}^*=\\sum_{i=1}^m\\lambda_i^*y_i\\pmb{x}_i$和$b^*=y_j-\\pmb{\\omega}^{*T}\\pmb{x_j}$, 其中$j$为$\\lambda^*$中的一个正分量$\\lambda_j^*>0$的下标。  \n",
    "注意：由于求解器求出来的是一个近似解，所以$\\lambda^*$中很多实际上为0的分量会略大于0，这时候可以设置一个阈值把非常靠近0的那些分量筛去，再从剩下的分量中选取一个正分量来计算$b^*$,或者也可以直接取$\\lambda^*$中最大的分量来计算$b^*$。</span>"
   ]
  },
  {
   "cell_type": "code",
   "execution_count": null,
   "id": "388c3510",
   "metadata": {},
   "outputs": [],
   "source": [
    "# ---- Your code here ----\n",
    "\n",
    "\n",
    "\n"
   ]
  },
  {
   "cell_type": "markdown",
   "id": "ad94df88",
   "metadata": {},
   "source": [
    "<span style=\"color:purple\">4)  \n",
    "画出数据集的散点图，给正样本（y为+1）和负样本（y为-1）分别标上不同的颜色，再为支持向量（训练数据中$\\lambda_j^*>0$的对应的样本）标上不同的颜色，并画出决策边界$\\pmb{\\omega}^{*T}\\pmb{x}+b=0$和间隔边界$\\pmb{\\omega}^{*T}\\pmb{x}+b=1$与$\\pmb{\\omega}^{*T}\\pmb{x}+b=-1$。</span>"
   ]
  },
  {
   "cell_type": "code",
   "execution_count": null,
   "id": "36428566",
   "metadata": {},
   "outputs": [],
   "source": [
    "# ---- Your code here ----\n",
    "\n",
    "\n",
    "\n",
    "\n"
   ]
  },
  {
   "cell_type": "markdown",
   "id": "f33d9ee3",
   "metadata": {},
   "source": [
    "2.线性支持向量机与软间隔最大化"
   ]
  },
  {
   "cell_type": "markdown",
   "id": "bdbeff31",
   "metadata": {},
   "source": [
    "<span style=\"color:purple\">1)  \n",
    "这一部分使用的数据集'dataset2.csv'是一个数据近似线性可分的数据集。每个数据样本同样包含两个特征$x_1$, $x_2$以及一个标签$y\\in\\{1,-1\\}$。   \n",
    "读入数据集'dataset2.csv',把数据类型都转换成np.double类型，并画出数据集的散点图，给正样本（y为+1）和负样本（y为-1）分别标上不同的颜色。</span>"
   ]
  },
  {
   "cell_type": "code",
   "execution_count": null,
   "id": "5caeaadf",
   "metadata": {},
   "outputs": [],
   "source": [
    "# ---- Your code here ----\n",
    "\n",
    "\n",
    "\n"
   ]
  },
  {
   "cell_type": "markdown",
   "id": "36bd9b63",
   "metadata": {},
   "source": [
    "<span style=\"color:purple\">2)  \n",
    "求对偶问题的最优解$\\lambda^*$  \n",
    "在数据近似线性可分的场景中，为了找到一个能最好地划分正样本和负样本的超平面$\\pmb{\\omega}^T \\pmb{x}+b=0$，我们需要求解下面这个主问题。\n",
    "\\begin{align}\n",
    "\\min_{\\pmb{\\omega},b,\\xi_i}\\quad &\\frac12 ||\\pmb{\\omega}||^2+C\\times\\sum_{i=1}^m \\xi_i\\\\\n",
    "s.t.\\quad &y_i(\\pmb{\\omega}^T \\pmb{x}_i+b)\\ge 1-\\xi_i,i=1,...,m\\\\\n",
    "&\\xi_i\\ge 0, i=1,...,m\\\\\n",
    "\\end{align}\n",
    "</span>"
   ]
  },
  {
   "cell_type": "markdown",
   "id": "3d108a81",
   "metadata": {},
   "source": [
    "<span style=\"color:purple\">对应地，我们需要选择一个参数C，求解如下对偶问题（参考课件）：</span>\n",
    "$$\n",
    "\\begin{align}\n",
    "\\min_\\lambda \\quad  &\\frac{1}{2}\\sum_{i=1}^m\\sum_{j=1}^m\\lambda_i\\lambda_jy_iy_j\\pmb{x}_i^T\\pmb{x}_j-\\sum_{i=1}^m\\lambda_i \\\\\n",
    "s.t. \\quad  &\\sum_{i=1}^m\\lambda_iy_i=0 \\\\\n",
    "      &\\pmb{0}\\leq \\pmb{\\lambda}\\leq C \n",
    "\\end{align}\n",
    "$$\n",
    "\n",
    "同样地，这个问题也可以写成如下形式：  \n",
    "$$\n",
    "\\begin{align}\n",
    "\\min_{\\lambda} \\quad  &\\frac{1}{2}\\lambda^TP\\lambda+q^T\\lambda \\\\\n",
    "s.t. \\quad  &G\\lambda\\leq h \\\\\n",
    "      &A\\lambda=b\n",
    "\\end{align}\n",
    "$$\n",
    "\n",
    "\n",
    "* $G:=\\begin{bmatrix}\n",
    "    -1 & 0 & \\cdots & 0 \\\\\n",
    "    0 & -1 & \\cdots & 0 \\\\\n",
    "   \\vdots & \\vdots & \\ddots &0 \\\\\n",
    "   0 & 0 & 0 & -1 \\\\\n",
    "   1 & 0 & \\cdots & 0 \\\\\n",
    "    0 & 1 & \\cdots & 0 \\\\\n",
    "   \\vdots & \\vdots & \\ddots &0 \\\\\n",
    "   0 & 0 & 0 & 1\n",
    "   \\end{bmatrix}_{2m\\times m}=\\begin{bmatrix}\n",
    "    -\\pmb{I} \\\\\n",
    "    \\pmb{I}\n",
    "   \\end{bmatrix},\\pmb{I}为单位矩阵,$\n",
    "* $h:=\\begin{bmatrix}\n",
    "    0 \\\\\n",
    "    0 \\\\\n",
    "    \\vdots \\\\\n",
    "    0 \\\\\n",
    "    C \\\\\n",
    "    C \\\\\n",
    "    \\vdots \\\\\n",
    "    C\n",
    "   \\end{bmatrix}_{2m\\times 1}, 即一个m\\times 1的零列向量与一个m\\times 1的分量全为C的列向量上下拼接$,\n",
    "* $P,q,A,b$与硬间隔优化问题中的矩阵相同。  \n",
    "* 参数$C$请自行选择。"
   ]
  },
  {
   "cell_type": "code",
   "execution_count": null,
   "id": "de031f65",
   "metadata": {},
   "outputs": [],
   "source": [
    "# ---- Your code here ----\n",
    "\n",
    "\n",
    "\n",
    "\n"
   ]
  },
  {
   "cell_type": "markdown",
   "id": "7093e867",
   "metadata": {},
   "source": [
    "<span style=\"color:purple\">3)  \n",
    "求出$\\pmb{\\omega}^*=\\sum_{i=1}^m\\lambda_i^*y_i\\pmb{x}_i$和$b^*=y_j-\\pmb{\\omega}^{*T}\\pmb{x_j}$, 其中$j$为$\\lambda^*$中的一个正分量$0<\\lambda_j^*<C$的下标。与硬间隔优化问题同理，应该避免选择非常接近0和非常接近$C$的分量。</span>"
   ]
  },
  {
   "cell_type": "code",
   "execution_count": null,
   "id": "7a7801c9",
   "metadata": {},
   "outputs": [],
   "source": [
    "# ---- Your code here ----\n",
    "\n",
    "\n",
    "\n",
    "\n"
   ]
  },
  {
   "cell_type": "markdown",
   "id": "7b97abec",
   "metadata": {},
   "source": [
    "<span style=\"color:purple\">4)  \n",
    "画出数据集的散点图，给正样本（y为+1）和负样本（y为-1）分别标上不同的颜色，再为支持向量（训练数据中$\\lambda_j^*>0$的对应的样本）标上不同的颜色，并画出决策边界$\\pmb{\\omega}^{*T}\\pmb{x}+b=0$和间隔边界$\\pmb{\\omega}^{*T}\\pmb{x}+b=1$与$\\pmb{\\omega}^{*T}\\pmb{x}+b=-1$。</span>"
   ]
  },
  {
   "cell_type": "code",
   "execution_count": null,
   "id": "4446b508",
   "metadata": {},
   "outputs": [],
   "source": [
    "# ---- Your code here ----\n",
    "\n",
    "\n",
    "\n",
    "\n",
    "\n"
   ]
  },
  {
   "cell_type": "markdown",
   "id": "e20c4293",
   "metadata": {},
   "source": [
    "3.非线性支持向量机与核函数"
   ]
  },
  {
   "cell_type": "markdown",
   "id": "f830c3b3",
   "metadata": {},
   "source": [
    "[Raisin Dataset](https://www.kaggle.com/datasets/muratkokludataset/raisin-dataset)是一个葡萄干的数据集，总共有900个样本，每个样本包含7个(都是连续的)特征以及1个标签，每个标签只有两种可能取值。本次实验已经按照8：2的比例划分成了训练数据集'Raisin_train.csv'以及测试数据集'Raisin_test.csv'，且每个数据集都已经做了特征归一化处理以及把标签的值替换成了+1和-1。"
   ]
  },
  {
   "cell_type": "markdown",
   "id": "7a6c8ca9",
   "metadata": {},
   "source": [
    "<span style=\"color:purple\">1) 读入训练数据集'Raisin_train.csv',把数据类型都转换成np.double类型。</span>"
   ]
  },
  {
   "cell_type": "code",
   "execution_count": null,
   "id": "5b020812",
   "metadata": {},
   "outputs": [],
   "source": [
    "# ---- Your code here ----\n",
    "\n",
    "\n",
    "\n",
    "\n"
   ]
  },
  {
   "cell_type": "markdown",
   "id": "50342054",
   "metadata": {},
   "source": [
    "<span style=\"color:purple\">2)  \n",
    "求对偶问题的最优解$\\lambda^*$  \n",
    "在数据非线性可分的场景中，我们需要求解下面这个主问题。\n",
    "\\begin{align}\n",
    "\\min_{\\pmb{\\omega},b,\\xi_i}\\quad &\\frac12 ||\\pmb{\\omega}||^2+C\\times\\sum_{i=1}^m \\xi_i\\\\\n",
    "s.t.\\quad &y_i(\\pmb{\\omega}^T \\phi(\\pmb{x}_i)+b)\\ge 1-\\xi_i,i=1,...,m\\\\\n",
    "&\\xi_i\\ge 0, i=1,...,m\\\\\n",
    "\\end{align}\n",
    "</span>"
   ]
  },
  {
   "cell_type": "markdown",
   "id": "89cf5ba7",
   "metadata": {},
   "source": [
    "<span style=\"color:purple\">对应地，我们需要：  \n",
    "选择一个核函数$K(\\pmb{x},\\pmb{z})$以及参数C，求解如下对偶问题（参考课件）：</span>\n",
    "$$\n",
    "\\begin{align}\n",
    "\\min_\\lambda\\quad   &\\frac{1}{2}\\sum_{i=1}^m\\sum_{j=1}^m\\lambda_i\\lambda_jy_iy_jK(\\pmb{x}_i,\\pmb{x}_j)-\\sum_{i=1}^m\\lambda_i \\\\\n",
    "s.t. \\quad  &\\sum_{i=1}^m\\lambda_iy_i=0 \\\\\n",
    "      &0\\leq \\lambda_i \\leq C, i=1,...,m \n",
    "\\end{align}\n",
    "$$\n",
    "\n",
    "相较于硬间隔最大化的优化问题，该优化问题仅需要对矩阵$P$做改动。\n",
    "从以下常用的核函数中选择一个作为该优化问题中的$K$（其中的参数请自行进行调整）：\n",
    "* 线性核：$K(\\pmb{x},\\pmb{z})=\\pmb{x}^T\\pmb{z}$\n",
    "* 多项式核：$K(\\pmb{x},\\pmb{z})=(\\pmb{x}^T\\pmb{z}+1)^p$\n",
    "* 高斯核：$K(\\pmb{x},\\pmb{z})=exp(-\\frac{\\parallel \\pmb{x}-\\pmb{z} \\parallel^2}{2\\sigma^2})$\n",
    "* 拉普拉斯核：$K(\\pmb{x},\\pmb{z})=exp(-\\frac{\\parallel \\pmb{x}-\\pmb{z} \\parallel}{\\sigma})$\n",
    "* Sigmoid核：$K(\\pmb{x},\\pmb{z})=tanh(\\beta\\pmb{x}^T\\pmb{z}+\\theta)$\n",
    "\n",
    "则$P是一个m\\times m的矩阵，其中P_{ij}=y_iy_jK(\\pmb{x_i},\\pmb{x_j})$。"
   ]
  },
  {
   "cell_type": "code",
   "execution_count": null,
   "id": "2716c531",
   "metadata": {},
   "outputs": [],
   "source": [
    "# ---- Your code here ----\n",
    "\n",
    "\n",
    "\n",
    "\n"
   ]
  },
  {
   "cell_type": "markdown",
   "id": "1a1a084b",
   "metadata": {},
   "source": [
    "<span style=\"color:purple\">3)  \n",
    "求出$b^*=y_j-\\sum_{i=1}^m \\lambda_i^*y_iK(\\pmb{x_i},\\pmb{x_j})$, 其中$j$为$\\lambda^*$中的一个正分量$0<\\lambda_j^*<C$的下标。</span>"
   ]
  },
  {
   "cell_type": "code",
   "execution_count": null,
   "id": "51cca8c9",
   "metadata": {},
   "outputs": [],
   "source": [
    "# ---- Your code here ----\n",
    "\n",
    "\n",
    "\n",
    "\n"
   ]
  },
  {
   "cell_type": "markdown",
   "id": "16b41092",
   "metadata": {},
   "source": [
    "<span style=\"color:purple\">4) 读入测试数据集'Raisin_test.csv',用分类决策函数$f(\\pmb{x})=sign(\\sum_{i=1}^m \\lambda_i^*y_iK(\\pmb{x}_i,\\pmb{x})+b^*)$（注意这里的$m,\\lambda_i^*,y_i,\\pmb{x}_i$是训练集的, $\\pmb{x}$是测试集的）进行预测，输出预测准确率。</span>"
   ]
  },
  {
   "cell_type": "code",
   "execution_count": null,
   "id": "d2e528d4",
   "metadata": {},
   "outputs": [],
   "source": [
    "# ---- Your code here ----\n",
    "\n",
    "\n",
    "\n",
    "\n",
    "\n",
    "\n"
   ]
  },
  {
   "cell_type": "markdown",
   "id": "30e813c6",
   "metadata": {},
   "source": [
    "**<font color = blue size=4>第三部分:作业提交</font>**"
   ]
  },
  {
   "cell_type": "markdown",
   "id": "2c07f805",
   "metadata": {},
   "source": [
    "一、实验课下课前提交完成代码，如果下课前未完成，请将已经完成的部分进行提交，未完成的部分于之后的实验报告中进行补充  \n",
    "要求:  \n",
    "1)文件格式为：学号-姓名.ipynb  \n",
    "2)【不要】提交文件夹、压缩包、数据集等无关文件，只需提交单个ipynb文件即可，如果交错请到讲台前联系助教，删掉之前的错误版本后再进行提交"
   ]
  },
  {
   "cell_type": "markdown",
   "id": "c6e807cb",
   "metadata": {},
   "source": [
    "二、实验报告下周五实验课(12月1号 14:20)上课前提交报告  \n",
    "要求：  \n",
    "1)文件格式为：学号-姓名.pdf  \n",
    "2)【不要】提交文件夹、压缩包、代码文件、数据集等任何与实验报告无关的文件，只需要提交单个pdf文件即可  \n",
    "3)文件命名时不需要额外添加“实验几”等额外信息，按照格式提交  \n",
    "4)每周的实验报告提交地址会变化，且有时间限制，提交时间为下周的实验课开始时，请注意及时提交。"
   ]
  },
  {
   "cell_type": "markdown",
   "id": "48dded90",
   "metadata": {},
   "source": [
    "实验十一(支持向量机)的实验报告上交地址:https://send2me.cn/TRRgKD4K/RX29mant_U152w"
   ]
  },
  {
   "cell_type": "markdown",
   "id": "fbf1a036",
   "metadata": {},
   "source": [
    "三、课堂课件获取地址:https://www.jianguoyun.com/p/DZKTh-IQp5WhChiIn6gFIAA  \n",
    "实验内容获取地址:https://www.jianguoyun.com/p/DWOjj7kQp5WhChi0nqkFIAA"
   ]
  }
 ],
 "metadata": {
  "kernelspec": {
   "display_name": "Python 3 (ipykernel)",
   "language": "python",
   "name": "python3"
  },
  "language_info": {
   "codemirror_mode": {
    "name": "ipython",
    "version": 3
   },
   "file_extension": ".py",
   "mimetype": "text/x-python",
   "name": "python",
   "nbconvert_exporter": "python",
   "pygments_lexer": "ipython3",
   "version": "3.11.4"
  }
 },
 "nbformat": 4,
 "nbformat_minor": 5
}
