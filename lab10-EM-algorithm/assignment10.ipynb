{
 "cells": [
  {
   "cell_type": "markdown",
   "id": "9ea0ed22",
   "metadata": {},
   "source": [
    "**<font color = black size=6>实验十:EM算法</font>**"
   ]
  },
  {
   "cell_type": "code",
   "execution_count": 1,
   "id": "db23a433",
   "metadata": {},
   "outputs": [],
   "source": [
    "from collections import Counter\n",
    "import numpy as np\n",
    "import pandas as pd\n",
    "import matplotlib.pyplot as plt\n",
    "import math\n",
    "import random"
   ]
  },
  {
   "cell_type": "markdown",
   "id": "5a94b746",
   "metadata": {},
   "source": [
    "**<font color = blue size=4>第一部分:实验任务</font>**"
   ]
  },
  {
   "cell_type": "markdown",
   "id": "59e45773",
   "metadata": {},
   "source": [
    "<span style=\"color:purple\">=======  \n",
    "现在给定了一个班级中所有同学的身高数据文件(height.csv)，但不知道各个学生的性别。假设男生身高服从一高斯分布$N_1(\\mu_1,\\sigma_1^2)$，女生身高服从另一高斯分布$N_2(\\mu_2,\\sigma_2^2)$，我们可以写出一个混合高斯模型:$x\\sim\\alpha_1 N_1(\\mu_1,\\sigma_1^2)+\\alpha_2 N_2(\\mu_2,\\sigma_2^2)$。请使用EM算法完成对该混合高斯分布的估计(即求出对参数$\\alpha_1,\\alpha_2,\\mu_1,\\sigma_1,\\mu_2,\\sigma_2$的估计值)。我们简化地记$\\theta_1=(\\alpha_1,\\mu_1,\\sigma_1)$, $\\theta_2=(\\alpha_2,\\mu_2,\\sigma_2)$</span>"
   ]
  },
  {
   "cell_type": "markdown",
   "id": "3eaa9224",
   "metadata": {},
   "source": [
    "<span style=\"color:purple\">该数据集(height.csv)特征信息只包括了1个特征，即学生的身高。我们沿用理论课PPT的设置，将隐变量$z_i$按照男生$z_i=1$、女生$z_i=2$的形式进行描述</span>"
   ]
  },
  {
   "cell_type": "markdown",
   "id": "71a273da",
   "metadata": {},
   "source": [
    "**<font color = black size=4>E步（Expectation Step）</font>**"
   ]
  },
  {
   "cell_type": "markdown",
   "id": "a55b8d07",
   "metadata": {},
   "source": [
    "<span style=\"color:purple\">1) 将数据集'height.csv'载入并转换为你需要的格式</span>"
   ]
  },
  {
   "cell_type": "code",
   "execution_count": null,
   "id": "8ba9174f",
   "metadata": {},
   "outputs": [],
   "source": [
    "D = pd.read_csv('height.csv')\n"
   ]
  },
  {
   "cell_type": "markdown",
   "id": "b8adad0e",
   "metadata": {},
   "source": [
    "<span style=\"color:purple\">2)初始化  \n",
    "初始化$t=0$时的参数($\\alpha_1(0)$, $\\alpha_2(0)$, $\\mu_1(0)$, $\\mu_2(0)$, $\\sigma_1(0)$, $\\sigma_2(0)$). </span>"
   ]
  },
  {
   "cell_type": "code",
   "execution_count": null,
   "id": "26ec83cd",
   "metadata": {},
   "outputs": [],
   "source": [
    "#parameter=[alpha1,alpha2,mu1,mu2,sigma1,sigma2]"
   ]
  },
  {
   "cell_type": "markdown",
   "id": "b98a1bec",
   "metadata": {},
   "source": [
    "<span style=\"color:purple\">3)编写函数P(x,parameter,z)  \n",
    "给定参数$(\\alpha_1(t),\\alpha_2(t),\\mu_1(t),\\mu_2(t),\\sigma_1(t),\\sigma_2(t))$以及数据集D,计算每个样本$x_i$的$P(x_i,z_i|\\theta)$.</span>"
   ]
  },
  {
   "cell_type": "markdown",
   "id": "1c4027ec",
   "metadata": {},
   "source": [
    "<span style=\"color:purple\">.  \n",
    "当$z_i=1$时,$$P(x_i,z_i|\\theta)=\\alpha_1(t)f_1(x_i|\\theta_1(t))$$\n",
    "    当$z_i=2$时,$$P(x_i,z_i|\\theta)=\\alpha_2(t)f_2(x_i|\\theta_2(t))$$</span>"
   ]
  },
  {
   "cell_type": "markdown",
   "id": "10fcfa00",
   "metadata": {},
   "source": [
    "<span style=\"color:purple\"> .   \n",
    "其中$f_1(x_i|\\theta_1(t))$为样本$x_i$在模型$N_1$中的概率密度,公式如下:\n",
    "    $$f(x_i|\\theta_1(t))=\\frac{1}{{\\sqrt{2\\pi}\\sigma_1}} e^{-\\frac{(x_i-\\mu_1)^2}{2\\sigma_1^2}}$$</span>"
   ]
  },
  {
   "cell_type": "code",
   "execution_count": null,
   "id": "21acd6a1",
   "metadata": {},
   "outputs": [],
   "source": [
    "#parameter=[alpha1,alpha2,mu1,mu2,sigma1,sigma2]\n",
    "def P(x,parameter,z):\n",
    "    #if z==1:\n",
    "        \n",
    "    #elif z==2:\n",
    "        "
   ]
  },
  {
   "cell_type": "markdown",
   "id": "0b51f5ed",
   "metadata": {},
   "source": [
    "<span style=\"color:purple\">4)编写函数Y(x,parameter,z)  \n",
    "给定参数$(\\alpha_1(t),\\alpha_2(t),\\mu_1(t),\\mu_2(t),\\sigma_1(t),\\sigma_2(t))$以及数据集D,计算每个样本$x_i$的$y_{1,i}=P((z_i=1)|x_i,\\theta)$和$y_{2,i}=P((z_i=2)|x_i,\\theta)$.  \n",
    "公式如下:  \n",
    "</span>"
   ]
  },
  {
   "cell_type": "markdown",
   "id": "6eba14dc",
   "metadata": {},
   "source": [
    "$$P((z_i=1)|x_i,\\theta) = \\frac{\\alpha_1(t)f_1(x_i|\\theta_1(t))}{\\alpha_1(t)f_1(x_i|\\theta_1(t))+\\alpha_2(t)f_2(x_i|\\theta_2(t))}$$  \n",
    "$$P((z_i=2)|x_i,\\theta) = \\frac{\\alpha_2(t)f_2(x_i|\\theta_2(t))}{\\alpha_1(t)f_1(x_i|\\theta_1(t))+\\alpha_2(t)f_2(x_i|\\theta_2(t))}$$"
   ]
  },
  {
   "cell_type": "code",
   "execution_count": null,
   "id": "edc0e43f",
   "metadata": {},
   "outputs": [],
   "source": [
    "#parameter=[alpha1,alpha2,mu1,mu2,sigma1,sigma2]\n",
    "def Y(x,parameter,z):\n",
    "    #if z==1:\n",
    "        \n",
    "    #elif z==2:\n",
    "\n"
   ]
  },
  {
   "cell_type": "markdown",
   "id": "c68cba90",
   "metadata": {},
   "source": [
    "<span style=\"color:purple\">5)编写函数Q(x,parameter)  \n",
    " 计算对数似然函数在该分布和基于$\\theta(t)$下的期望值$Q(\\theta)$.单个样本的期望值公式如下:$$E_{z_i}logP(x_i,z_i|\\theta)=y_{1,i}log(\\alpha_1(t)f_1(x_i|\\theta_1(t)))+y_{2,i}log(\\alpha_2(t)f_2(x_i|\\theta_2(t)))$$</span>"
   ]
  },
  {
   "cell_type": "code",
   "execution_count": null,
   "id": "6678b0f5",
   "metadata": {},
   "outputs": [],
   "source": [
    "#parameter=[alpha1,alpha2,mu1,mu2,sigma1,sigma2]\n",
    "def Q(x,parameter):\n",
    "    "
   ]
  },
  {
   "cell_type": "markdown",
   "id": "1640536b",
   "metadata": {},
   "source": [
    "**<font color = black size=4>M步 (Maximization Step)</font>**"
   ]
  },
  {
   "cell_type": "markdown",
   "id": "553d509e",
   "metadata": {},
   "source": [
    "<span style=\"color:purple\">6)编写函数alpha_expection(D,parameter)  \n",
    " 给定参数$(\\alpha_1(t),\\alpha_2(t),\\mu_1(t),\\mu_2(t),\\sigma_1(t),\\sigma_2(t))$以及数据集D，计算第$(t+1)$轮的$(\\alpha_1(t+1),\\alpha_2(t+1))$的更新值.\n",
    "</span>"
   ]
  },
  {
   "cell_type": "markdown",
   "id": "2b18e03a",
   "metadata": {},
   "source": [
    "$$\\alpha_1(t+1)=\\frac{\\sum_{i=1}^m{y_{1,i}}}{m}$$  \n",
    "$$\\alpha_2(t+1)=\\frac{\\sum_{i=1}^m{y_{2,i}}}{m}$$"
   ]
  },
  {
   "cell_type": "code",
   "execution_count": null,
   "id": "816571c3",
   "metadata": {},
   "outputs": [],
   "source": [
    "#parameter=[alpha1,alpha2,mu1,mu2,sigma1,sigma2]\n",
    "def alpha_expection(D,parameter):\n",
    "    "
   ]
  },
  {
   "cell_type": "markdown",
   "id": "75d91543",
   "metadata": {},
   "source": [
    "<span style=\"color:purple\">7)编写函数mu_expection(D,parameter)  \n",
    "给定参数$(\\alpha_1(t),\\alpha_2(t),\\mu_1(t),\\mu_2(t),\\sigma_1(t),\\sigma_2(t))$以及数据集D，计算第$(t+1)$轮的$(\\mu_1(t+1),\\mu_2(t+1))$的更新值.\n",
    "</span>"
   ]
  },
  {
   "cell_type": "markdown",
   "id": "17f77382",
   "metadata": {},
   "source": [
    "$$\\mu_1(t+1)=\\frac{\\sum_{i=1}^m{y_{1,i}x_i}}{\\sum_{i=1}^m{y_{1,i}}}$$\n",
    "$$\\mu_2(t+1)=\\frac{\\sum_{i=1}^m{y_{2,i}x_i}}{\\sum_{i=1}^m{y_{2,i}}}$$"
   ]
  },
  {
   "cell_type": "code",
   "execution_count": null,
   "id": "cce50059",
   "metadata": {},
   "outputs": [],
   "source": [
    "#parameter=[alpha1,alpha2,mu1,mu2,sigma1,sigma2]\n",
    "def mu_expection(D,parameter):\n",
    "    "
   ]
  },
  {
   "cell_type": "markdown",
   "id": "dab8612a",
   "metadata": {},
   "source": [
    "<span style=\"color:purple\">8)编写函数sigma_expection(D,parameter,mu_next_1,mu_next_2)  \n",
    "给定参数$(\\alpha_1(t),\\alpha_2(t),\\mu_1(t),\\mu_2(t),\\sigma_1(t),\\sigma_2(t))$以及数据集D，计算第$(t+1)$轮的$(\\sigma_1(t+1),\\sigma_2(t+1))$的更新值.\n",
    "</span>"
   ]
  },
  {
   "cell_type": "markdown",
   "id": "44c47937",
   "metadata": {},
   "source": [
    "$$\\sigma_1(t+1)=\\sqrt{\\frac{\\sum_{i=1}^m{y_{1,i}(x_i-\\mu_1(t+1))^2}}{\\sum_{i=1}^m{y_{1,i}}}}$$\n",
    "$$\\sigma_2(t+1)=\\sqrt{\\frac{\\sum_{i=1}^m{y_{2,i}(x_i-\\mu_2(t+1))^2}}{\\sum_{i=1}^m{y_{2,i}}}}$$"
   ]
  },
  {
   "cell_type": "code",
   "execution_count": null,
   "id": "58084451",
   "metadata": {},
   "outputs": [],
   "source": [
    "#parameter=[alpha1,alpha2,mu1,mu2,sigma1,sigma2]\n",
    "def sigma_expection(D,parameter,mu_next_1,mu_next_2):\n",
    "    "
   ]
  },
  {
   "cell_type": "markdown",
   "id": "20f96c7c",
   "metadata": {},
   "source": [
    "**<font color = black size=4>E步和M步的迭代过程</font>**"
   ]
  },
  {
   "cell_type": "markdown",
   "id": "cc5376c4",
   "metadata": {},
   "source": [
    "<span style=\"color:purple\">9) 利用前面编写的函数完成EM算法的迭代过程，直至达到收敛要求。请至少完成【3次】不同的初始值下的迭代过程，并比较选出最好的。  \n",
    "    收敛要求给出如下几种参考:  \n",
    "    1.迭代轮数达到指定轮数;  \n",
    "    2.每轮参数更新的差值小于阈值.</span>"
   ]
  },
  {
   "cell_type": "markdown",
   "id": "51849ee6",
   "metadata": {},
   "source": [
    "<img src='./EM Algorithm Pseudocode.png'>"
   ]
  },
  {
   "cell_type": "markdown",
   "id": "8125c35e",
   "metadata": {},
   "source": [
    ".  \n",
    "我们给出这个数据集的正确相关信息作为参考:$\\theta_1:(\\alpha_1=0.625,\\mu_1=175,\\sigma_1=4)$,$\\theta_2:(\\alpha_2=0.375,\\mu_2=165,\\sigma_2=6)$"
   ]
  },
  {
   "cell_type": "code",
   "execution_count": null,
   "id": "0949818d",
   "metadata": {},
   "outputs": [],
   "source": [
    "\n"
   ]
  },
  {
   "cell_type": "markdown",
   "id": "ce37c15b",
   "metadata": {},
   "source": [
    "**<font color = blue size=4>第二部分:作业提交</font>**"
   ]
  },
  {
   "cell_type": "markdown",
   "id": "d90cab67",
   "metadata": {},
   "source": [
    "一、实验课下课前提交完成代码，如果下课前未完成，请将已经完成的部分进行提交，未完成的部分于之后的实验报告中进行补充  \n",
    "要求:  \n",
    "1)文件格式为：学号-姓名.ipynb  \n",
    "2)【不要】提交文件夹、压缩包、数据集等无关文件，只需提交单个ipynb文件即可，如果交错请到讲台前联系助教，删掉之前的错误版本后再进行提交"
   ]
  },
  {
   "cell_type": "markdown",
   "id": "651240a9",
   "metadata": {},
   "source": [
    "二、实验报告截止日期： 【11月24日 14:20】\n",
    "要求：  \n",
    "1)文件格式为：学号-姓名.pdf  \n",
    "2)【不要】提交文件夹、压缩包、代码文件、数据集等任何与实验报告无关的文件，只需要提交单个pdf文件即可  \n",
    "3)文件命名时不需要额外添加“实验几”等额外信息，按照格式提交  \n",
    "4)每周的实验报告提交地址会变化，且有时间限制，提交时间为下周的实验课开始时，请注意及时提交。"
   ]
  },
  {
   "cell_type": "markdown",
   "id": "bc07e4e0",
   "metadata": {},
   "source": [
    "实验十(EM算法)的实验报告上交地址:https://send2me.cn/9UjusmMn/S_Cz3o_FpKQEsA  "
   ]
  },
  {
   "cell_type": "markdown",
   "id": "7ee9cfb6",
   "metadata": {},
   "source": [
    "三、课堂课件获取地址:https://www.jianguoyun.com/p/DZKTh-IQp5WhChiIn6gFIAA  \n",
    "实验内容获取地址:https://www.jianguoyun.com/p/DbCHB9wQp5WhChiKn6gFIAA"
   ]
  }
 ],
 "metadata": {
  "kernelspec": {
   "display_name": "Python 3",
   "language": "python",
   "name": "python3"
  },
  "language_info": {
   "codemirror_mode": {
    "name": "ipython",
    "version": 3
   },
   "file_extension": ".py",
   "mimetype": "text/x-python",
   "name": "python",
   "nbconvert_exporter": "python",
   "pygments_lexer": "ipython3",
   "version": "3.8.8"
  }
 },
 "nbformat": 4,
 "nbformat_minor": 5
}
