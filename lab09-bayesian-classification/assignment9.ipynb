{
 "cells": [
  {
   "cell_type": "markdown",
   "id": "dcc9ef1a",
   "metadata": {},
   "source": [
    "**<font color = black size=6>实验九:贝叶斯分类</font>**"
   ]
  },
  {
   "cell_type": "code",
   "execution_count": 7,
   "id": "ef6f7c39",
   "metadata": {},
   "outputs": [],
   "source": [
    "from collections import Counter\n",
    "import numpy as np\n",
    "import pandas as pd\n",
    "import matplotlib.pyplot as plt\n",
    "import math"
   ]
  },
  {
   "cell_type": "markdown",
   "id": "83ab07c9",
   "metadata": {},
   "source": [
    "**<font color = blue size=4>第一部分:实验任务</font>**"
   ]
  },
  {
   "cell_type": "markdown",
   "id": "76a0aa2c",
   "metadata": {},
   "source": [
    "1.朴素贝叶斯"
   ]
  },
  {
   "cell_type": "markdown",
   "metadata": {},
   "source": [
    "<img src='./Naive Bayes Classifier Pseudocode.jpg'>"
   ]
  },
  {
   "cell_type": "markdown",
   "id": "5365ec76",
   "metadata": {},
   "source": [
    "<span style=\"color:purple\">该数据集(train_mushroom.csv)为分类数据集，为蘑菇的特征信息以及是否有毒。包括了13个特征以及一个标签(即为label类型,代表是否有毒)。label='p'代表有毒，label='e'代表无毒。</span>"
   ]
  },
  {
   "cell_type": "markdown",
   "id": "ba6819a7",
   "metadata": {},
   "source": [
    "<span style=\"color:purple\">1) 将训练数据集'train_mushroom.csv'和'test_mushroom.csv'载入并转换为你需要的格式</span>"
   ]
  },
  {
   "cell_type": "code",
   "execution_count": null,
   "id": "8474772f",
   "metadata": {},
   "outputs": [],
   "source": []
  },
  {
   "cell_type": "markdown",
   "id": "7ea73a75",
   "metadata": {},
   "source": [
    "<span style=\"color:purple\">2) 计算每个标签值y对应的先验概率P(y)\n",
    "$$P(y)=\\frac{|D_y|}{|D|}$$\n",
    "    其中$D_y$为标签值为y的样本集合，$|D_y|$为这个集合的样本个数；D为所有样本集合，|D|为所有样本个数\n",
    "\n",
    "</span>"
   ]
  },
  {
   "cell_type": "code",
   "execution_count": 8,
   "id": "8f26968d",
   "metadata": {},
   "outputs": [],
   "source": [
    "#计算先验概率\n"
   ]
  },
  {
   "cell_type": "markdown",
   "id": "24730295",
   "metadata": {},
   "source": [
    "<span style=\"color:purple\">3) 对于数据集中的每个特征的非重复特征值$x_i$，计算给定标签值y时特征值$x_i$的条件概率$P(x_i│y)$,\n",
    "    $$P(x_i│y)=\\frac{|D_{x_i,y}|}{|D_y|}$$\n",
    "$D_{x_i,y}$为标签值为y，特征值为$x_i$的样本集合；$|D_{x_i,y}|$为该集合的样本个数\n",
    "</span>"
   ]
  },
  {
   "cell_type": "code",
   "execution_count": 9,
   "id": "752e4961",
   "metadata": {},
   "outputs": [],
   "source": [
    "#首先遍历数据集D中的每个特征，将每个特征的非重复值取出\n",
    "\n",
    "\n",
    "#根据标签值将数据集D分为两个子数据集，分别包括所有标签值为p的样本和所有标签值为e的样本。\n",
    "\n",
    "#现以标签为p的数据集Dp为例子，遍历Dp的每个特征，分别求出该特征每个特征值的条件概率\n",
    "#以特征cap-shape为例。Dp中cap-shape的非重复值集合为['b' 'c' 'f' 'k' 's' 'x' 'y']，计算条件概率P(cap-shape='b'|label='p'),P(cap-shape='c'|label='p'),...,P(cap-shape='y'|label='p')，\n",
    "#上述对cap-shape特征操作完成后，按照同样的步骤对Dp中的剩余12个特征进行同样的操作\n",
    "\n",
    "#得到数据集Dp中条件概率集合后，对另一个子数据集进行同样的操作\n",
    "\n"
   ]
  },
  {
   "cell_type": "markdown",
   "id": "920340f7",
   "metadata": {},
   "source": [
    "<span style=\"color:purple\">4) 编写函数，给定样本$x=(x_1,...,x_i,...,x_d)$以及标签y, 计算其后验概率    \n",
    "    输入：样本x，标签y  \n",
    "    输出：样本x对应标签y的后验概率  \n",
    "    计算后验概率公式:\n",
    "$P(y)\\prod_{i=1}^{d}P(x_i|y)$   \n",
    "    \n",
    "<span style=\"color:purple\">例:  \n",
    "    特征和标签：(cap-shape, cap-surface,..., habitat), label  \n",
    "    输入: [k, y, n, f, s, c, n, b, o, e, w, v, d], p  \n",
    "    输出: P(label='p') $\\times$ P(cap-shape='k'|label='p') $\\times$ ... $\\times$ P(habitat='d'|label='p')</span>"
   ]
  },
  {
   "cell_type": "code",
   "execution_count": 10,
   "id": "703e4ffb",
   "metadata": {},
   "outputs": [],
   "source": [
    "def pro(a,index):\n",
    "\n",
    "    return"
   ]
  },
  {
   "cell_type": "markdown",
   "id": "6e2f8294",
   "metadata": {},
   "source": [
    "<span style=\"color:purple\">5) 对测试集中的每个样本a，利用上个步骤所编写的函数，分别求所有可能的标签对应的后验概率，后验概率更大的对应标签即为预测标签。最后与测试集本身标签进行比较计算出准确率</span>"
   ]
  },
  {
   "cell_type": "code",
   "execution_count": null,
   "id": "720ab16b",
   "metadata": {},
   "outputs": [],
   "source": []
  },
  {
   "cell_type": "markdown",
   "id": "09d5da06",
   "metadata": {},
   "source": [
    "2.引入拉普拉斯平滑"
   ]
  },
  {
   "cell_type": "markdown",
   "id": "aaf951b2",
   "metadata": {},
   "source": [
    "<span style=\"color:purple\">1) 首先，请判断是否有某个特征值和某个类没有在训练集中同时出现而使得条件概率为零。如果无，则无需进行下列实验；如果有，请在上个实验的基础上引入拉普拉斯平滑</span>"
   ]
  },
  {
   "cell_type": "code",
   "execution_count": null,
   "id": "d03dbc02",
   "metadata": {},
   "outputs": [],
   "source": []
  },
  {
   "cell_type": "markdown",
   "id": "164cf7b7",
   "metadata": {},
   "source": [
    "<span style=\"color:purple\">2) 引入拉普拉斯平滑后计算每个标签y对应的先验概率P(y)\n",
    "$$P(y)=\\frac{|D_y|+1}{|D|+N}$$\n",
    "    其中$D_y$为标签为y的样本集合；$|D_y|$为标签为y的集合的样本个数；D为所有样本集合；|D|为所有样本个数;N为标签取值的个数\n",
    "\n",
    "</span>"
   ]
  },
  {
   "cell_type": "code",
   "execution_count": 11,
   "id": "f34423cf",
   "metadata": {},
   "outputs": [],
   "source": [
    "#计算先验概率\n"
   ]
  },
  {
   "cell_type": "markdown",
   "id": "5fa57e6f",
   "metadata": {},
   "source": [
    "<span style=\"color:purple\">3) 计算数据集中的每个特征的非重复特征值$x_i$对应标签y的条件概率$P(x_i│y)$,\n",
    "    $$P(x_i│y)=\\frac{|D_{x_i,y}|+1}{|D_y|+N_i}$$\n",
    "$D_{x_i,y}$为标签为$y$，特征为$x_i$的样本集合；$|D_{x_i,y}|$为该样本个数;$N_i$为第$i$个特征取值的个数\n",
    "</span>"
   ]
  },
  {
   "cell_type": "code",
   "execution_count": 12,
   "id": "aa1d83cd",
   "metadata": {},
   "outputs": [],
   "source": [
    "#首先遍历数据集D中的每个特征，将每个特征的非重复值取出\n",
    "\n",
    "\n",
    "#根据标签值将数据集D分为两个子数据集，分别包括所有标签值为p的样本和所有标签值为e的样本。\n",
    "\n",
    "#现以标签为p的数据集Dp为例子，遍历Dp的每个特征，分别求出该特征每个特征值的条件概率。\n",
    "#以特征cap-shape为例。Dp中cap-shape的非重复值集合为['b' 'c' 'f' 'k' 's' 'x' 'y']，计算条件概率P(cap-shape='b'|label='p'),P(cap-shape='c'|label='p'),...,P(cap-shape='y'|label='p')，\n",
    "#计算条件概率时需要注意引入拉普拉斯平滑。\n",
    "#上述对cap-shape特征操作完成后，按照同样的步骤对Dp中的剩余12个特征进行同样的操作\n",
    "\n",
    "#得到数据集Dp中条件概率集合后，对另一个子数据集进行同样的操作\n"
   ]
  },
  {
   "cell_type": "markdown",
   "id": "e9555a74",
   "metadata": {},
   "source": [
    "<span style=\"color:purple\">4) 对测试集中的每个样本a，利用上个步骤所编写的函数，分别求所有可能的标签对应的后验概率，后验概率更大的对应标签即为预测标签，最后与测试集本身标签进行比较计算出准确率</span>"
   ]
  },
  {
   "cell_type": "code",
   "execution_count": null,
   "id": "99b0941e",
   "metadata": {},
   "outputs": [],
   "source": []
  },
  {
   "cell_type": "markdown",
   "id": "0f6f62e5",
   "metadata": {},
   "source": [
    "**<font color = blue size=4>第二部分:作业提交</font>**"
   ]
  },
  {
   "cell_type": "markdown",
   "id": "e5e1b059",
   "metadata": {},
   "source": [
    "一、实验课下课前提交完成代码，如果下课前未完成，请将已经完成的部分进行提交，未完成的部分于之后的实验报告中进行补充  \n",
    "要求:  \n",
    "1)文件格式为：学号-姓名.ipynb  \n",
    "2)【不要】提交文件夹、压缩包、数据集等无关文件，只需提交单个ipynb文件即可，如果交错请到讲台前联系助教，删掉之前的错误版本后再进行提交"
   ]
  },
  {
   "cell_type": "markdown",
   "id": "8a115318",
   "metadata": {},
   "source": [
    "二、实验报告截止日期： 【11月17日 14:20】\n",
    "要求：  \n",
    "1)文件格式为：学号-姓名.pdf  \n",
    "2)【不要】提交文件夹、压缩包、代码文件、数据集等任何与实验报告无关的文件，只需要提交单个pdf文件即可  \n",
    "3)文件命名时不需要额外添加“实验几”等额外信息，按照格式提交  \n",
    "4)每周的实验报告提交地址会变化，且有时间限制，提交时间为下周的实验课开始时，请注意及时提交。"
   ]
  },
  {
   "cell_type": "markdown",
   "id": "22a2724b",
   "metadata": {},
   "source": [
    "实验九(贝叶斯分类)的实验报告上交地址:https://send2me.cn/ufVNphux/T9yuatQDc00TVw  "
   ]
  },
  {
   "cell_type": "markdown",
   "id": "08f1e971",
   "metadata": {},
   "source": [
    "三、课堂课件获取地址:https://www.jianguoyun.com/p/DRLiP2oQp5WhChjB86YFIAA  \n",
    "实验内容获取地址:https://www.jianguoyun.com/p/DbLessAQp5WhChjD86YFIAA"
   ]
  }
 ],
 "metadata": {
  "kernelspec": {
   "display_name": "Python 3",
   "language": "python",
   "name": "python3"
  },
  "language_info": {
   "codemirror_mode": {
    "name": "ipython",
    "version": 3
   },
   "file_extension": ".py",
   "mimetype": "text/x-python",
   "name": "python",
   "nbconvert_exporter": "python",
   "pygments_lexer": "ipython3",
   "version": "3.8.8"
  }
 },
 "nbformat": 4,
 "nbformat_minor": 5
}
